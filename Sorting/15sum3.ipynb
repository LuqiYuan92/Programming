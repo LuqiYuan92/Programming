{
 "cells": [
  {
   "cell_type": "code",
   "execution_count": 24,
   "metadata": {},
   "outputs": [],
   "source": [
    "from typing import List\n",
    "class Solution1:\n",
    "    def threeSum(self, nums: List[int]) -> List[List[int]]:\n",
    "       # sort the list, using two pointers and do not repeat use the same number \n",
    "       # time complexity is O(n^2)\n",
    "       #right pointer starts from the last element(largest), left pointer starts from the next element of the current element\n",
    "        nums.sort()\n",
    "        result=[]\n",
    "       \n",
    "        for i,v in enumerate(nums):\n",
    "           if i>0 and v==nums[i-1]:\n",
    "               continue\n",
    "           \n",
    "           left,right=i+1,len(nums)-1\n",
    "           while(left<right):\n",
    "                total=v+nums[left]+nums[right]\n",
    "                if total>0:\n",
    "                    right-=1\n",
    "                elif total<0:\n",
    "                    left+=1\n",
    "                else:\n",
    "                    result.append([v,nums[left],nums[right]])\n",
    "                    left+=1\n",
    "                    while nums[left]==nums[left-1] and left<right:\n",
    "                        left+=1\n",
    "        return result\n",
    "                    \n",
    "           "
   ]
  },
  {
   "cell_type": "code",
   "execution_count": 29,
   "metadata": {},
   "outputs": [],
   "source": [
    "from typing import List\n",
    "class Solution:\n",
    "    def threeSum(self, nums: List[int]) -> List[List[int]]:\n",
    "        nums.sort()\n",
    "        result=[]\n",
    "       \n",
    "        \n",
    "        for i in range(len(nums)):\n",
    "            if i>0 and nums[i]==nums[i-1]:\n",
    "                continue\n",
    "            target=-nums[i]\n",
    "            #Seen dictionary reset: The seen dictionary should be reset for each iteration of the outer loop (for i), It needs to be inside the loop to correctly check for pairs with each new target.\n",
    "            seen={}\n",
    "            \n",
    "            \n",
    "            #cannot move duplicate: change the value of j in the inner loop, it does not change the number of times of iteration in the for loop;\n",
    "            for j in range(i+1,len(nums)):       \n",
    "                complement=target-nums[j]\n",
    "                if complement in seen:\n",
    "                    result.append([nums[i],nums[j],complement])\n",
    "                    #check nums[j+1] before checking the equal value of nums[j]\n",
    "                    while j+1<len(nums) and nums[j]==nums[j+1]:\n",
    "                        j+=1\n",
    "                    \n",
    "                seen[nums[j]]=j\n",
    "        return result\n",
    "            \n",
    "    "
   ]
  },
  {
   "cell_type": "code",
   "execution_count": 10,
   "metadata": {},
   "outputs": [
    {
     "name": "stdout",
     "output_type": "stream",
     "text": [
      "seoncd 1\n",
      "seoncd 2\n",
      "seoncd 3\n",
      "seoncd 4\n",
      "seoncd 5\n",
      "seoncd 6\n",
      "seoncd 7\n",
      "seoncd 8\n",
      "seoncd 9\n",
      "seoncd 10\n"
     ]
    }
   ],
   "source": [
    "#The loop variable is updated at the beginning of each iteration, \n",
    "# so any changes made to the loop variable within the loop body do not affect the sequence of values being iterated over.\n",
    "for i in range(10):\n",
    "    #print('first',i)\n",
    "    i+=1\n",
    "    print('seoncd',i)"
   ]
  },
  {
   "cell_type": "code",
   "execution_count": 14,
   "metadata": {},
   "outputs": [],
   "source": [
    "\n",
    "\n",
    "from typing import List\n",
    "\n",
    "class Solution2:\n",
    "    def threeSum(self, nums: List[int]) -> List[List[int]]:\n",
    "        nums.sort()  # Sort the input to make it easier to avoid duplicates\n",
    "        result = []\n",
    "\n",
    "        for i in range(len(nums) - 2):  # Need at least three numbers to form a triplet\n",
    "            if i > 0 and nums[i] == nums[i - 1]:  # Skip duplicates for the first number\n",
    "                continue\n",
    "            \n",
    "            target = -nums[i]\n",
    "            seen = {}\n",
    "            \n",
    "            \n",
    "            j=i+1\n",
    "            while j<len(nums):\n",
    "                complement = target - nums[j]\n",
    "                if complement in seen:\n",
    "                    result.append([nums[i], nums[j], complement])\n",
    "                     #check nums[j+1] before checking the equal value of nums[j]\n",
    "                    while j+1<len(nums) and nums[j]==nums[j+1]:\n",
    "                        j+=1\n",
    "                \n",
    "                seen[nums[j]] = j  # Store the current number in the hashmap\n",
    "                j+=1\n",
    "        \n",
    "        return result\n",
    "\n"
   ]
  },
  {
   "cell_type": "code",
   "execution_count": 12,
   "metadata": {},
   "outputs": [
    {
     "name": "stdout",
     "output_type": "stream",
     "text": [
      "[[0, 0, 0]]\n"
     ]
    }
   ],
   "source": [
    "sol = Solution2()\n",
    "nums1 = [-1, 0, 1, 2, -1, -4]\n",
    "nums =[0,0,0,0]\n",
    "print(sol.threeSum(nums))"
   ]
  },
  {
   "cell_type": "code",
   "execution_count": 13,
   "metadata": {},
   "outputs": [
    {
     "name": "stdout",
     "output_type": "stream",
     "text": [
      "(0, -1, -2)\n",
      "(0, -1, -2)\n",
      "(-1, 0, 1)\n",
      "<map object at 0x108a7d810>\n",
      "{(0, -1, -2), (-1, 0, 1)}\n",
      "[(0, -1, -2), (-1, 0, 1)]\n",
      "[(-1, 0, 1), (0, -1, -2)]\n"
     ]
    }
   ],
   "source": [
    "result=[[0,-1,-2],[0,-1,-2],[-1,0,1]]\n",
    "#convert list of list to list of tuple\n",
    "unique_result1 = map(tuple, result)\n",
    "##convert list of list to list of tuple\n",
    "tuple_result=[tuple(item) for item in result]\n",
    "#create a set of tuple\n",
    "unique_result2= set(map(tuple, result))\n",
    "unique_result3= list(set(map(tuple, result)))\n",
    "unique_result4= sorted(list(set(map(tuple, result))))\n",
    "for item in unique_result1:\n",
    "    print(item)\n",
    "print(unique_result1)\n",
    "print(unique_result2)\n",
    "print(unique_result3)\n",
    "print(unique_result4)"
   ]
  },
  {
   "cell_type": "code",
   "execution_count": 18,
   "metadata": {},
   "outputs": [
    {
     "name": "stdout",
     "output_type": "stream",
     "text": [
      "[(0, -1, -2), (0, -1, -2), (-1, 0, 1)]\n",
      "{(0, -1, -2), (-1, 0, 1)}\n"
     ]
    }
   ],
   "source": [
    "#sets in Python can only contain hashable (immutable) types, \n",
    "# and lists are mutable and therefore unhashable. \n",
    "# To store lists in a set, you need to convert them to a hashable type, such as tuples.\n",
    "result=[[0,-1,-2],[0,-1,-2],[-1,0,1]]\n",
    "\n",
    "#conver each list to tuple \n",
    "tuple_result=[tuple(item) for item in result]\n",
    "print(tuple_result)\n",
    "\n",
    "#create a set of tuples\n",
    "unique_result=set(tuple_result)\n",
    "print(unique_result)"
   ]
  }
 ],
 "metadata": {
  "kernelspec": {
   "display_name": "myproject_kernel",
   "language": "python",
   "name": "myproject_kernel"
  },
  "language_info": {
   "codemirror_mode": {
    "name": "ipython",
    "version": 3
   },
   "file_extension": ".py",
   "mimetype": "text/x-python",
   "name": "python",
   "nbconvert_exporter": "python",
   "pygments_lexer": "ipython3",
   "version": "3.12.6"
  }
 },
 "nbformat": 4,
 "nbformat_minor": 2
}
