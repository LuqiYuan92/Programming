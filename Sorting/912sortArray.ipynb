{
 "cells": [
  {
   "cell_type": "code",
   "execution_count": 22,
   "metadata": {},
   "outputs": [
    {
     "name": "stdout",
     "output_type": "stream",
     "text": [
      "[0, 0, 1, 1, 2, 5]\n"
     ]
    }
   ],
   "source": [
    "from typing import List\n",
    "class Solution:\n",
    "    def sortArray(self, nums: List[int]) -> List[int]:\n",
    "        \n",
    "        #main function :devide until the array has only one element\n",
    "        #merge function : merge the divided arrays\n",
    "                \n",
    "        def merge(array,l,mid,r):\n",
    "            left=array[l:mid+1]\n",
    "            right=array[mid+1:r+1]\n",
    "            #two pointers\n",
    "            #array_index is the index of the main array, initially set to the left index\n",
    "            #modify the original array, sort in place, store left and right are the two arrays to be merged\n",
    "            i,j,array_index=0,0,l\n",
    "            \n",
    "            while i<len(left) and j<len(right):\n",
    "                if left[i]<=right[j]:\n",
    "                    array[array_index]=left[i]\n",
    "                    i+=1\n",
    "                else:\n",
    "                    array[array_index]=right[j]\n",
    "                    j+=1\n",
    "                array_index+=1\n",
    "                \n",
    "            # if there are any elements left in the left or right array,add them to the main array\n",
    "            while i<len(left):\n",
    "                array[array_index]=left[i]\n",
    "                i+=1\n",
    "                array_index+=1\n",
    "               \n",
    "            while j<len(right):\n",
    "                array[array_index]=right[j]\n",
    "                j+=1\n",
    "                array_index+=1\n",
    "                \n",
    "            return array\n",
    "        \n",
    "         #l and r are the left and right index of the array\n",
    "        def mergeSort(array,l,r):\n",
    "            #base case when the array has only one element, left and right index are the same\n",
    "            if(l==r):\n",
    "                return array\n",
    "            mid=(l+r)//2\n",
    "            mergeSort(array,l,mid)\n",
    "            mergeSort(array,mid+1,r)\n",
    "            merge(array,l,mid,r)\n",
    "            return array\n",
    "            \n",
    "            \n",
    "        return  mergeSort(nums,0,len(nums)-1)\n",
    "\n",
    "nums = [5,1,1,2,0,0]\n",
    "print(Solution().sortArray(nums))\n",
    "\n",
    "        \n",
    "        \n",
    "        \n",
    "       \n",
    "        "
   ]
  },
  {
   "cell_type": "code",
   "execution_count": null,
   "metadata": {},
   "outputs": [],
   "source": [
    "from typing import List\n",
    "class Solution2:\n",
    "    def sortArray2(self, nums: List[int]) -> List[int]:\n",
    "        \n",
    "        def merge(left,right):\n",
    "            l,r=0,0\n",
    "            res=[]\n",
    "            while l<len(left) and r<len(right):\n",
    "                if left[l]<=right[r]:\n",
    "                    res.append(left[l])\n",
    "                    l+=1\n",
    "                else:\n",
    "                    res.append(right[r])\n",
    "                    r+=1\n",
    "                \n",
    "            while l<len(left):\n",
    "                res.append(left[l])\n",
    "                l+=1\n",
    "            while r<len(right):\n",
    "                res.append(right[r])\n",
    "                r+=1    \n",
    "            return res\n",
    "                \n",
    "            \n",
    "            \n",
    "        def mergeSort(array):\n",
    "            if len(array)<=1:\n",
    "                return array\n",
    "            mid=len(array)//2\n",
    "            left=mergeSort(array[:mid])\n",
    "            right=mergeSort(array[mid:])\n",
    "            return merge(left,right)\n",
    "        "
   ]
  },
  {
   "cell_type": "code",
   "execution_count": 23,
   "metadata": {},
   "outputs": [
    {
     "name": "stdout",
     "output_type": "stream",
     "text": [
      "[0, 0, 1, 1, 2, 5]\n"
     ]
    }
   ],
   "source": [
    "nums = [5,1,1,2,0,0]\n",
    "print(Solution().sortArray(nums))\n"
   ]
  }
 ],
 "metadata": {
  "kernelspec": {
   "display_name": "myproject_kernel",
   "language": "python",
   "name": "myproject_kernel"
  },
  "language_info": {
   "codemirror_mode": {
    "name": "ipython",
    "version": 3
   },
   "file_extension": ".py",
   "mimetype": "text/x-python",
   "name": "python",
   "nbconvert_exporter": "python",
   "pygments_lexer": "ipython3",
   "version": "3.12.6"
  }
 },
 "nbformat": 4,
 "nbformat_minor": 2
}
