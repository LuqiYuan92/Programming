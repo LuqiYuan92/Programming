{
 "cells": [
  {
   "cell_type": "code",
   "execution_count": 7,
   "metadata": {},
   "outputs": [
    {
     "name": "stdout",
     "output_type": "stream",
     "text": [
      "[0, 1, 9, 16, 100]\n"
     ]
    }
   ],
   "source": [
    "from typing import List\n",
    "class Solution:\n",
    "    def sortedSquares(self, nums: List[int]) -> List[int]:\n",
    "        #two pointer approach\n",
    "        #determin the biggest number in the array and then square it append it to the result array;reverse the array\n",
    "        l,r=0,len(nums)-1\n",
    "        result=[]\n",
    "        \n",
    "    \n",
    "        while(l<=r):\n",
    "            if abs(nums[l])<abs(nums[r]):\n",
    "                result.append(nums[r]**2)\n",
    "                r-=1\n",
    "            else:\n",
    "                result.append(nums[l]**2)\n",
    "                l+=1\n",
    "        return result[::-1]\n",
    "                \n",
    "nums=[-4,-1,0,3,10]\n",
    "sol=Solution()\n",
    "print(sol.sortedSquares(nums))                    \n",
    "            "
   ]
  }
 ],
 "metadata": {
  "kernelspec": {
   "display_name": "myproject_kernel",
   "language": "python",
   "name": "myproject_kernel"
  },
  "language_info": {
   "codemirror_mode": {
    "name": "ipython",
    "version": 3
   },
   "file_extension": ".py",
   "mimetype": "text/x-python",
   "name": "python",
   "nbconvert_exporter": "python",
   "pygments_lexer": "ipython3",
   "version": "3.12.6"
  }
 },
 "nbformat": 4,
 "nbformat_minor": 2
}
