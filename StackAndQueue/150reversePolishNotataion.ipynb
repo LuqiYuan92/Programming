{
 "cells": [
  {
   "cell_type": "code",
   "execution_count": 8,
   "metadata": {},
   "outputs": [],
   "source": [
    "from typing import List\n",
    "class Solution:\n",
    "    def evalRPN(self, tokens: List[str]) -> int:\n",
    "        stack=[]\n",
    "        \n",
    "        # convert to interger and pay attention to the order of a and b\n",
    "        # truncates to zero\n",
    "        for token in tokens:\n",
    "            if token in '+-*/':\n",
    "                b,a=stack.pop(),stack.pop()\n",
    "                if token=='+':\n",
    "                    stack.append(a+b)\n",
    "                elif token=='-':\n",
    "                    stack.append(a-b)\n",
    "                elif token=='*':\n",
    "                    stack.append(a*b)\n",
    "                elif token=='/':\n",
    "                    stack.append(int(a/b))\n",
    "            else:\n",
    "                stack.append(int(token))\n",
    "            print (stack)\n",
    "        return stack[0]\n",
    "            "
   ]
  },
  {
   "cell_type": "code",
   "execution_count": 9,
   "metadata": {},
   "outputs": [
    {
     "name": "stdout",
     "output_type": "stream",
     "text": [
      "[10]\n",
      "[10, 6]\n",
      "[10, 6, 9]\n",
      "[10, 6, 9, 3]\n",
      "[10, 6, 12]\n",
      "[10, 6, 12, -11]\n",
      "[10, 6, -132]\n",
      "[10, 0]\n",
      "[0]\n",
      "[0, 17]\n",
      "[17]\n",
      "[17, 5]\n",
      "[22]\n",
      "22\n"
     ]
    }
   ],
   "source": [
    "tokens = [\"10\",\"6\",\"9\",\"3\",\"+\",\"-11\",\"*\",\"/\",\"*\",\"17\",\"+\",\"5\",\"+\"]\n",
    "#Output: 22\n",
    "sol=Solution()\n",
    "print(sol.evalRPN(tokens))"
   ]
  },
  {
   "cell_type": "code",
   "execution_count": 2,
   "metadata": {},
   "outputs": [
    {
     "name": "stdout",
     "output_type": "stream",
     "text": [
      "-3 -2\n"
     ]
    }
   ],
   "source": [
    "a1 = -5\n",
    "b1 = 2\n",
    "result1 = a1 // b1  # result is -3\n",
    "#Rounding: Floors the result, meaning it rounds down to the nearest integer.\n",
    "\n",
    "a = -5\n",
    "b = 2\n",
    "result2 = int(a / b)  # result is -2\n",
    "#Rounding: Truncates towards zero.\n",
    "\n",
    "print(result1, result2)"
   ]
  }
 ],
 "metadata": {
  "kernelspec": {
   "display_name": "myproject_kernel",
   "language": "python",
   "name": "myproject_kernel"
  },
  "language_info": {
   "codemirror_mode": {
    "name": "ipython",
    "version": 3
   },
   "file_extension": ".py",
   "mimetype": "text/x-python",
   "name": "python",
   "nbconvert_exporter": "python",
   "pygments_lexer": "ipython3",
   "version": "3.12.6"
  }
 },
 "nbformat": 4,
 "nbformat_minor": 2
}
