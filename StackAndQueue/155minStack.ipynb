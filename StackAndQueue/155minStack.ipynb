{
 "cells": [
  {
   "cell_type": "code",
   "execution_count": 23,
   "metadata": {},
   "outputs": [],
   "source": [
    "class MinStack:\n",
    "\n",
    "    def __init__(self):\n",
    "        self.stack=[]\n",
    "        self.minStack=[]\n",
    "        \n",
    "#minStack is used to store the minimum value at and before each index of the stack\n",
    "    def push(self, val: int) -> None:\n",
    "        self.stack.append(val)\n",
    "        minVal=min(val,self.minStack[-1]) if self.minStack else val\n",
    "        self.minStack.append(minVal)\n",
    "        \n",
    "\n",
    "    def pop(self) -> None:\n",
    "        self.stack.pop()\n",
    "        self.minStack.pop()\n",
    "        print('afterpop',self.stack)\n",
    "        \n",
    "\n",
    "    def top(self) -> int:\n",
    "        return self.stack[-1]\n",
    "        \n",
    "\n",
    "    def getMin(self) -> int:\n",
    "        print('minstack',self.minStack)\n",
    "        return self.minStack[-1]\n",
    "        "
   ]
  },
  {
   "cell_type": "code",
   "execution_count": 24,
   "metadata": {},
   "outputs": [
    {
     "name": "stdout",
     "output_type": "stream",
     "text": [
      "minstack [-2, -2, -3]\n",
      "-3\n",
      "afterpop [-2, 0]\n",
      "0\n",
      "minstack [-2, -2]\n",
      "-2\n"
     ]
    }
   ],
   "source": [
    "minStack = MinStack();\n",
    "minStack.push(-2);\n",
    "minStack.push(0);\n",
    "minStack.push(-3);\n",
    "print(minStack.getMin()); # return -3\n",
    "minStack.pop();\n",
    "print(minStack.top());    # return 0\n",
    "print(minStack.getMin()); # return -2"
   ]
  }
 ],
 "metadata": {
  "kernelspec": {
   "display_name": "myproject_kernel",
   "language": "python",
   "name": "myproject_kernel"
  },
  "language_info": {
   "codemirror_mode": {
    "name": "ipython",
    "version": 3
   },
   "file_extension": ".py",
   "mimetype": "text/x-python",
   "name": "python",
   "nbconvert_exporter": "python",
   "pygments_lexer": "ipython3",
   "version": "3.12.6"
  }
 },
 "nbformat": 4,
 "nbformat_minor": 2
}
