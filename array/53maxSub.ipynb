{
 "cells": [
  {
   "cell_type": "code",
   "execution_count": 5,
   "metadata": {},
   "outputs": [
    {
     "name": "stdout",
     "output_type": "stream",
     "text": [
      "23\n"
     ]
    }
   ],
   "source": [
    "from typing import List\n",
    "from math import inf\n",
    "class Solution:\n",
    "    def maxSubArray(self, nums: List[int]) -> int:\n",
    "        #if previous sum is negative, then we should start from the current number\n",
    "        #if previous sum is positive, then we should add the current number to the previous sum\n",
    "        \n",
    "        max_sum=-inf\n",
    "        preSum=0\n",
    "        for number in nums:\n",
    "            preSum=preSum+number if preSum>0 else number\n",
    "            max_sum=max(max_sum,preSum)\n",
    "            \n",
    "        return max_sum\n",
    "    \n",
    "nums = [5,4,-1,7,8]\n",
    "print(Solution().maxSubArray(nums))\n",
    "        "
   ]
  },
  {
   "cell_type": "code",
   "execution_count": 6,
   "metadata": {},
   "outputs": [],
   "source": [
    "class Solution:\n",
    "    def maxSubArray(self, nums: List[int]) -> int:\n",
    "        maxSum=-inf\n",
    "        preSum=0\n",
    "\n",
    "        for number in nums:\n",
    "            if(preSum<0):\n",
    "                preSum=0\n",
    "            preSum+=number\n",
    "            maxSum=max(maxSum,preSum)\n",
    "        return maxSum"
   ]
  }
 ],
 "metadata": {
  "kernelspec": {
   "display_name": "myproject_kernel",
   "language": "python",
   "name": "myproject_kernel"
  },
  "language_info": {
   "codemirror_mode": {
    "name": "ipython",
    "version": 3
   },
   "file_extension": ".py",
   "mimetype": "text/x-python",
   "name": "python",
   "nbconvert_exporter": "python",
   "pygments_lexer": "ipython3",
   "version": "3.12.6"
  }
 },
 "nbformat": 4,
 "nbformat_minor": 2
}
