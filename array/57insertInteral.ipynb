{
 "cells": [
  {
   "cell_type": "code",
   "execution_count": 4,
   "metadata": {},
   "outputs": [
    {
     "name": "stdout",
     "output_type": "stream",
     "text": [
      "second loop i:1\n",
      "third loop i:2\n",
      "[[1, 5], [6, 9]]\n"
     ]
    }
   ],
   "source": [
    "from typing import List\n",
    "class Solution:\n",
    "    def insert(self, intervals: List[List[int]], newInterval: List[int]) -> List[List[int]]:\n",
    "        result=[] \n",
    "        i=0\n",
    "        while newInterval[0]>intervals[i][1]:\n",
    "            result.append(intervals[i])\n",
    "            i+=1\n",
    "            print(f\"first loop i:{i}\")\n",
    "        while newInterval[1]>=intervals[i][0]:\n",
    "            newInterval[0]=min(newInterval[0],intervals[i][0])\n",
    "            newInterval[1]=max(newInterval[1],intervals[i][1])\n",
    "            i+=1\n",
    "            print(f\"second loop i:{i}\")\n",
    "        result.append(newInterval)\n",
    "        \n",
    "        while i<len(intervals):\n",
    "            result.append(intervals[i])\n",
    "            i+=1\n",
    "            print(f\"third loop i:{i}\")\n",
    "        return result\n",
    "        \n",
    "intervals = [[1,2],[3,5],[6,7],[8,10],[12,16]]\n",
    "newInterval = [4,8]\n",
    "print(Solution().insert(intervals, newInterval))"
   ]
  }
 ],
 "metadata": {
  "kernelspec": {
   "display_name": "myproject_kernel",
   "language": "python",
   "name": "myproject_kernel"
  },
  "language_info": {
   "codemirror_mode": {
    "name": "ipython",
    "version": 3
   },
   "file_extension": ".py",
   "mimetype": "text/x-python",
   "name": "python",
   "nbconvert_exporter": "python",
   "pygments_lexer": "ipython3",
   "version": "3.12.6"
  }
 },
 "nbformat": 4,
 "nbformat_minor": 2
}
