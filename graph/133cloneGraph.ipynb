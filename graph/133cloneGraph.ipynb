{
 "cells": [
  {
   "cell_type": "code",
   "execution_count": 27,
   "metadata": {},
   "outputs": [],
   "source": [
    "\"\"\"\n",
    "# Definition for a Node.\n",
    "class Node:\n",
    "    def __init__(self, val = 0, neighbors = None):\n",
    "        self.val = val\n",
    "        self.neighbors = neighbors if neighbors is not None else []\n",
    "\"\"\"\n",
    "\n",
    "\n",
    "class Node:\n",
    "    def __init__(self, val = 0, neighbors = None):\n",
    "        self.val = val\n",
    "        self.neighbors = neighbors if neighbors is not None else []\n",
    "    \n",
    "def build_graph(adjList):\n",
    "    if not adjList:\n",
    "        return None\n",
    "    \n",
    "    #create a dictionary to store the nodes\n",
    "    nodes={i+1:Node(i+1) for i in range(len(adjList))}\n",
    "    \n",
    "    #populate the neighbors:method1\n",
    "    for i in range(len(adjList)):\n",
    "        for j in adjList[i]:\n",
    "            nodes[i+1].neighbors.append(nodes[j])\n",
    "            \n",
    "    #node1:[nodes[2],nodes[4]]\n",
    "            \n",
    "    #populate the neighbors:method2\n",
    "    for i,neighbors in enumerate(adjList):\n",
    "        nodes[i+1].neighbors=[nodes[neighbor]for neighbor in neighbors]\n",
    "       \n",
    "        \n",
    "    #return the first node in the graph through dictionary[key]\n",
    "    return nodes[1]\n",
    "\n",
    "\n",
    "        \n",
    "        "
   ]
  },
  {
   "cell_type": "code",
   "execution_count": 28,
   "metadata": {},
   "outputs": [],
   "source": [
    "adjList = [[2,4],[1,3],[2,4],[1,3]]\n",
    "graph=build_graph(adjList)\n"
   ]
  },
  {
   "cell_type": "code",
   "execution_count": 29,
   "metadata": {},
   "outputs": [],
   "source": [
    "def print_graph(node):\n",
    "    visited=set()\n",
    "    def dfs(node):\n",
    "        if node.val not in visited:\n",
    "            visited.add(node.val)\n",
    "            #neighbors: list of nodes----[node2,node4]\n",
    "            print(f'Node{node.val}:{[neighbor.val for neighbor in node.neighbors]}')\n",
    "            for neighbor in node.neighbors:\n",
    "                #node1---->node2---->node3---->node4    \n",
    "                dfs(neighbor)\n",
    "    dfs(node)\n",
    "        "
   ]
  },
  {
   "cell_type": "code",
   "execution_count": 30,
   "metadata": {},
   "outputs": [
    {
     "name": "stdout",
     "output_type": "stream",
     "text": [
      "Node1:[2, 4]\n",
      "Node2:[1, 3]\n",
      "Node3:[2, 4]\n",
      "Node4:[1, 3]\n"
     ]
    }
   ],
   "source": [
    "print_graph(graph)"
   ]
  },
  {
   "cell_type": "code",
   "execution_count": 31,
   "metadata": {},
   "outputs": [
    {
     "name": "stdout",
     "output_type": "stream",
     "text": [
      "0 [2, 4]\n",
      "2\n",
      "4\n",
      "1 [1, 3]\n",
      "1\n",
      "3\n",
      "2 [2, 4]\n",
      "2\n",
      "4\n",
      "3 [1, 3]\n",
      "1\n",
      "3\n"
     ]
    }
   ],
   "source": [
    "adjList = [[2,4],[1,3],[2,4],[1,3]]\n",
    "\n",
    "for i,neighbors in enumerate(adjList):\n",
    "    print(i,neighbors)\n",
    "    for neighbor in neighbors:\n",
    "        print(neighbor)"
   ]
  },
  {
   "cell_type": "code",
   "execution_count": 33,
   "metadata": {},
   "outputs": [
    {
     "name": "stdout",
     "output_type": "stream",
     "text": [
      "Node1:[2, 4]\n",
      "Node2:[1, 3]\n",
      "Node3:[2, 4]\n",
      "Node4:[1, 3]\n"
     ]
    }
   ],
   "source": [
    "from typing import Optional\n",
    "class Solution:\n",
    "    def cloneGraph(self, node: Optional['Node']) -> Optional['Node']:\n",
    "       \n",
    "        \n",
    "        # map the old node to the new node in the dictionary\n",
    "        # if the node is not in the dictionary, create a new node and add it to the dictionary\n",
    "        #  if the node is None, return None\n",
    "        #base case: if the node exists in the dictionary, return the new node\n",
    "        # run the dfs on the neighbors of the node and append the return value to the new node's neighbors\n",
    "        old_to_new={}\n",
    "        def dfs(node):\n",
    "            '''if not node:\n",
    "                return None'''\n",
    "            if node in old_to_new:\n",
    "                return old_to_new[node]\n",
    "            new_node=Node(node.val)\n",
    "            old_to_new[node]=new_node\n",
    "            for neighbor in node.neighbors:\n",
    "                #append new neighbors to the new node\n",
    "                new_node.neighbors.append(dfs(neighbor))\n",
    "            return new_node\n",
    "        return dfs(node) if node else None \n",
    "sol=Solution()\n",
    "copy=sol.cloneGraph(graph)\n",
    "print_graph(copy)\n",
    "        "
   ]
  }
 ],
 "metadata": {
  "kernelspec": {
   "display_name": "myproject_kernel",
   "language": "python",
   "name": "myproject_kernel"
  },
  "language_info": {
   "codemirror_mode": {
    "name": "ipython",
    "version": 3
   },
   "file_extension": ".py",
   "mimetype": "text/x-python",
   "name": "python",
   "nbconvert_exporter": "python",
   "pygments_lexer": "ipython3",
   "version": "3.12.6"
  }
 },
 "nbformat": 4,
 "nbformat_minor": 2
}
