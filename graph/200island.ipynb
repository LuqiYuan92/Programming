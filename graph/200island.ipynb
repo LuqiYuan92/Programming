{
 "cells": [
  {
   "cell_type": "code",
   "execution_count": 1,
   "metadata": {},
   "outputs": [],
   "source": [
    "from typing import List\n",
    "import collections\n",
    "class Solution:\n",
    "    def numIslands(self, grid: List[List[str]]) -> int:\n",
    "        # a tuple to store the row and column, and the direction\n",
    "        if not grid:\n",
    "            return 0\n",
    "        island=0\n",
    "        nrow,ncol=len(grid),len(grid[0])\n",
    "        visted=set()\n",
    "        \n",
    "        def bfs(r,c):\n",
    "            q=collections.deque()\n",
    "            \n",
    "            if (r,c) not in visted:\n",
    "                q.append((r,c))\n",
    "                visted.add((r,c))\n",
    "            while q:\n",
    "                #dfs: pop the last element from the stack:row,col=stack.pop()\n",
    "                row,col=q.popleft()\n",
    "                directions=[(0,1),(0,-1),(1,0),(-1,0)]\n",
    "                for dr,dc in directions:\n",
    "                    newrow=row+dr\n",
    "                    newcol=col+dc\n",
    "                    if (newrow in range(nrow) and\n",
    "                        newcol in range(ncol) and \n",
    "                        grid[newrow][newcol]=='1' and\n",
    "                        (newrow,newcol) not in visted):\n",
    "                        q.append((newrow,newcol))\n",
    "                        visted.add((newrow,newcol))\n",
    "                    \n",
    "       \n",
    "        for r in range(nrow):\n",
    "            for c in range(ncol):\n",
    "                if grid[r][c]=='1':\n",
    "                    self.bfs(r,c)\n",
    "                    island+=1\n",
    "        return island\n",
    "        "
   ]
  },
  {
   "cell_type": "code",
   "execution_count": null,
   "metadata": {},
   "outputs": [],
   "source": [
    "grid = [\n",
    "  [\"1\",\"1\",\"0\",\"0\",\"0\"],\n",
    "  [\"1\",\"1\",\"0\",\"0\",\"0\"],\n",
    "  [\"0\",\"0\",\"1\",\"0\",\"0\"],\n",
    "  [\"0\",\"0\",\"0\",\"1\",\"1\"]\n",
    "]\n",
    "#"
   ]
  }
 ],
 "metadata": {
  "kernelspec": {
   "display_name": "myproject_kernel",
   "language": "python",
   "name": "myproject_kernel"
  },
  "language_info": {
   "codemirror_mode": {
    "name": "ipython",
    "version": 3
   },
   "file_extension": ".py",
   "mimetype": "text/x-python",
   "name": "python",
   "nbconvert_exporter": "python",
   "pygments_lexer": "ipython3",
   "version": "3.12.6"
  }
 },
 "nbformat": 4,
 "nbformat_minor": 2
}
