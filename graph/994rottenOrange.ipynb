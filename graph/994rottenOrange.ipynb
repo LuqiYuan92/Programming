{
 "cells": [
  {
   "cell_type": "code",
   "execution_count": 3,
   "metadata": {},
   "outputs": [],
   "source": [
    "from typing import List\n",
    "from collections import deque\n",
    "class Solution:\n",
    "    def orangesRotting(self, grid: List[List[int]]) -> int:\n",
    "        time,fresh=0,0\n",
    "        rotten=deque()\n",
    "        row,col=len(grid),len(grid[0])\n",
    "        \n",
    "        #iterate through the grid to find the fresh and rotten oranges\n",
    "        for r in range(row):\n",
    "            for c in range(col):\n",
    "                if grid[r][c]==1:\n",
    "                    fresh+=1\n",
    "                elif grid[r][c]==2:\n",
    "                    rotten.append((r,c))\n",
    "        \n",
    "        if fresh==0:\n",
    "            return 0\n",
    "        \n",
    "        direction=[(0,1),(0,-1),(1,0),(-1,0)]\n",
    "        while rotten and fresh>0:\n",
    "            length=len(rotten)\n",
    "            # iterate through the rotten oranges at every minute\n",
    "            # use for loop to iterate through the rotten oranges at the same minute\n",
    "            # cuz the length of rotten oranges at the next minute is changing\n",
    "            for _ in range(length):\n",
    "                r,c=rotten.popleft()\n",
    "                for dr,dc in direction:\n",
    "                    newrow=dr+r\n",
    "                    newcol=dc+c\n",
    "                    if (newrow<0 or newrow==len(grid) or newcol<0 or\n",
    "                        newcol==len(grid[0]) or grid[newrow][newcol]!=1):\n",
    "                        continue\n",
    "                    grid[newrow][newcol]=2\n",
    "                    fresh-=1\n",
    "                    rotten.append((newrow,newcol))\n",
    "            time+=1\n",
    "        return time if fresh==0 else -1"
   ]
  },
  {
   "cell_type": "code",
   "execution_count": 4,
   "metadata": {},
   "outputs": [
    {
     "name": "stdout",
     "output_type": "stream",
     "text": [
      "4\n"
     ]
    }
   ],
   "source": [
    "grid = [[2,1,1],[1,1,0],[0,1,1]]\n",
    "#Output: 4\n",
    "time=Solution().orangesRotting(grid)\n",
    "print(time)"
   ]
  }
 ],
 "metadata": {
  "kernelspec": {
   "display_name": "myproject_kernel",
   "language": "python",
   "name": "myproject_kernel"
  },
  "language_info": {
   "codemirror_mode": {
    "name": "ipython",
    "version": 3
   },
   "file_extension": ".py",
   "mimetype": "text/x-python",
   "name": "python",
   "nbconvert_exporter": "python",
   "pygments_lexer": "ipython3",
   "version": "3.12.6"
  }
 },
 "nbformat": 4,
 "nbformat_minor": 2
}
