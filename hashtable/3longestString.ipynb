{
 "cells": [
  {
   "cell_type": "code",
   "execution_count": 1,
   "metadata": {},
   "outputs": [],
   "source": [
    "class Solution:\n",
    "    def lengthOfLongestSubstring(self, s: str) -> int:\n",
    "        #sliding window and hashmap\n",
    "        #time complexity O(n)\n",
    "        #space complexity O(min(m,n))\n",
    "        max_Length=0\n",
    "        left=0\n",
    "        seen={}\n",
    "        \n",
    "        for right in range(len(s)):\n",
    "            char=s[right]\n",
    "            # seen[char] >= left is to check if the char is within sliding window of the current substring\n",
    "            # check example s =\"tmmzuxt\"\n",
    "            if char in seen and seen[char]>=left and seen[char]<=right:\n",
    "                left=seen[char]+1\n",
    "            else:\n",
    "                max_Length=max(max_Length,right-left+1)\n",
    "            seen[char]=right\n",
    "        return max_Length\n",
    "        \n",
    "        "
   ]
  },
  {
   "cell_type": "code",
   "execution_count": 3,
   "metadata": {},
   "outputs": [],
   "source": [
    "class Solution:\n",
    "    def lengthOfLongestSubstring(self, s: str) -> int:\n",
    "        #hashset and sliding window\n",
    "        max_length=0\n",
    "        left=0\n",
    "        hasSeen=set()\n",
    "        \n",
    "        \n",
    "        for right in range(len(s)):\n",
    "            while s[right] in hasSeen:\n",
    "                #remove the leftmost element from the window\n",
    "                hasSeen.remove(s[left])\n",
    "                left+=1\n",
    "            hasSeen.add(s[right])\n",
    "            max_length=max(max_length,right-left+1)\n",
    "        return max_length"
   ]
  },
  {
   "cell_type": "code",
   "execution_count": 4,
   "metadata": {},
   "outputs": [
    {
     "name": "stdout",
     "output_type": "stream",
     "text": [
      "5\n"
     ]
    }
   ],
   "source": [
    "s =\"tmmzuxt\"\n",
    "print(Solution().lengthOfLongestSubstring(s))"
   ]
  }
 ],
 "metadata": {
  "kernelspec": {
   "display_name": "myproject_kernel",
   "language": "python",
   "name": "myproject_kernel"
  },
  "language_info": {
   "codemirror_mode": {
    "name": "ipython",
    "version": 3
   },
   "file_extension": ".py",
   "mimetype": "text/x-python",
   "name": "python",
   "nbconvert_exporter": "python",
   "pygments_lexer": "ipython3",
   "version": "3.12.6"
  }
 },
 "nbformat": 4,
 "nbformat_minor": 2
}
