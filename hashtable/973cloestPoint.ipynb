{
 "cells": [
  {
   "cell_type": "code",
   "execution_count": 34,
   "metadata": {},
   "outputs": [],
   "source": [
    "from typing import List\n",
    "import heapq\n",
    "\n",
    "#The logarithmic time complexity is a characteristic feature of binary heaps, \n",
    "#which heapq is based on. Binary heaps are binary trees for which every parent node has a value less than or equal to any of its children. \n",
    "# This property allows for efficient insertion and deletion operations, resulting in a logarithmic time complexity for heappush and heappop operations.\n",
    "class Solution:\n",
    "    def kClosest(self, points: List[List[int]], k: int) -> List[List[int]]:\n",
    "        result=[]\n",
    "        minHeap=[]\n",
    "        \n",
    "        for x,y in points:\n",
    "            distance=x**2+y**2\n",
    "            minHeap.append([distance,x,y])\n",
    "        #Transforms a list x into a heap, in-place, in linear time.\n",
    "        #heap binary tree structure for which every parent node has a value less than or equal to any of its children\n",
    "        heapq.heapify(minHeap)\n",
    "        print('1',minHeap)\n",
    "        result=heapq.nsmallest(k,minHeap)\n",
    "        print('2',result)\n",
    "        #remove the first element of each list\n",
    "        result=[x[1:]for x in result]\n",
    "        print('3',result)\n",
    "        return result\n",
    "          \n",
    "        \n"
   ]
  },
  {
   "cell_type": "code",
   "execution_count": 44,
   "metadata": {},
   "outputs": [
    {
     "name": "stdout",
     "output_type": "stream",
     "text": [
      "[[0, 1], [-2, 2]]\n"
     ]
    }
   ],
   "source": [
    "from typing import List\n",
    "class Solution:\n",
    "    def kClosest(self, points: List[List[int]], k: int) -> List[List[int]]:\n",
    "        result=[]\n",
    "        #store distance and point use tuple()\n",
    "        #sort by distance use lambda\n",
    "        for x,y in points:\n",
    "            distance=x**2+y**2\n",
    "            result.append((distance,[x,y]))\n",
    "        result.sort(key=lambda x:x[0])\n",
    "        #get the first k points\n",
    "        result=[x[1] for x in result[0:k]]\n",
    "        return result\n",
    "        \n",
    "sol = Solution()\n",
    "points = [[1, 3], [-2, 2], [5, 8], [0, 1]]\n",
    "k = 2\n",
    "print(sol.kClosest(points, k))"
   ]
  },
  {
   "cell_type": "code",
   "execution_count": null,
   "metadata": {},
   "outputs": [],
   "source": []
  },
  {
   "cell_type": "code",
   "execution_count": 37,
   "metadata": {},
   "outputs": [],
   "source": [
    "\n",
    "from typing import List\n",
    "import heapq\n",
    "class Solution:\n",
    "    def kClosest(self, points: List[List[int]], k: int) -> List[List[int]]:\n",
    "        result=[]\n",
    "        minHeap=[]\n",
    "        \n",
    "        for x,y in points:\n",
    "            distance=x**2+y**2\n",
    "            minHeap.append([distance,x,y])\n",
    "        #Transforms a list x into a min heap, in-place, in linear time.\n",
    "        #Pop the smallest distance priority queue\n",
    "        #order the element by distance in a binary tree structure for which every parent node has a value less than or equal to any of its children\n",
    "        heapq.heapify(minHeap)\n",
    "        while k>0:\n",
    "            #Pop the smallest distance priority queue\n",
    "            dist,x,y=heapq.heappop(minHeap)\n",
    "            result.append([x,y])\n",
    "            k-=1\n",
    "        return result\n",
    "          \n",
    "        "
   ]
  },
  {
   "cell_type": "code",
   "execution_count": 39,
   "metadata": {},
   "outputs": [],
   "source": [
    "\n",
    "from typing import List\n",
    "import heapq\n",
    "class Solution:\n",
    "    def kClosest(self, points: List[List[int]], k: int) -> List[List[int]]:\n",
    "        result=[]\n",
    "        minHeap=[]\n",
    "        \n",
    "        for x,y in points:\n",
    "            distance=x**2+y**2\n",
    "            minHeap.append([distance,x,y])\n",
    "        #Transforms a list x into a heap, in-place, in linear time.\n",
    "        heapq.heapify(minHeap)\n",
    "        for _ in range(k):\n",
    "            #Pop the smallest element  priority queue\n",
    "            smallest=heapq.heappop(minHeap)\n",
    "            result.append(smallest[1:])\n",
    "        return result"
   ]
  },
  {
   "cell_type": "code",
   "execution_count": 38,
   "metadata": {},
   "outputs": [
    {
     "data": {
      "text/plain": [
       "[[3, 3], [-2, 4]]"
      ]
     },
     "execution_count": 38,
     "metadata": {},
     "output_type": "execute_result"
    }
   ],
   "source": [
    "points = [[3,3],[5,-1],[-2,4]]\n",
    "k = 2\n",
    "sol=Solution()\n",
    "sol.kClosest(points,k)\n"
   ]
  }
 ],
 "metadata": {
  "kernelspec": {
   "display_name": "myproject_kernel",
   "language": "python",
   "name": "myproject_kernel"
  },
  "language_info": {
   "codemirror_mode": {
    "name": "ipython",
    "version": 3
   },
   "file_extension": ".py",
   "mimetype": "text/x-python",
   "name": "python",
   "nbconvert_exporter": "python",
   "pygments_lexer": "ipython3",
   "version": "3.12.6"
  }
 },
 "nbformat": 4,
 "nbformat_minor": 2
}
