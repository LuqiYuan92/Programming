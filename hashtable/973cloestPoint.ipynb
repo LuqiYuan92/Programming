{
 "cells": [
  {
   "cell_type": "code",
   "execution_count": 34,
   "metadata": {},
   "outputs": [],
   "source": [
    "from typing import List\n",
    "import heapq\n",
    "class Solution:\n",
    "    def kClosest(self, points: List[List[int]], k: int) -> List[List[int]]:\n",
    "        result=[]\n",
    "        minHeap=[]\n",
    "        \n",
    "        for x,y in points:\n",
    "            distance=x**2+y**2\n",
    "            minHeap.append([distance,x,y])\n",
    "        #Transforms a list x into a heap, in-place, in linear time.\n",
    "        heapq.heapify(minHeap)\n",
    "        print('1',minHeap)\n",
    "        result=heapq.nsmallest(k,minHeap)\n",
    "        print('2',result)\n",
    "        result=[x[1:]for x in result]\n",
    "        print('3',result)\n",
    "        return result\n",
    "          \n",
    "        \n"
   ]
  },
  {
   "cell_type": "code",
   "execution_count": null,
   "metadata": {},
   "outputs": [],
   "source": [
    "from typing import List\n",
    "import heapq\n",
    "class Solution:\n",
    "    def kClosest(self, points: List[List[int]], k: int) -> List[List[int]]:\n",
    "        result=[]\n",
    "        minHeap=[]\n",
    "        \n",
    "        for x,y in points:\n",
    "            distance=x**2+y**2\n",
    "            minHeap.append([distance,x,y])\n",
    "        #Transforms a list x into a heap, in-place, in linear time.\n",
    "        heapq.heapify(minHeap)\n",
    "       \n",
    "       while k>0:\n",
    "            dist,x,y=heapq.heappop(minHeap)\n",
    "          \n",
    "        "
   ]
  },
  {
   "cell_type": "code",
   "execution_count": 31,
   "metadata": {},
   "outputs": [
    {
     "name": "stdout",
     "output_type": "stream",
     "text": [
      "1 [[18, 3, 3], [26, 5, -1], [20, -2, 4]]\n",
      "2 [[18, 3, 3], [20, -2, 4]]\n",
      "3 [[3, 3], [-2, 4]]\n"
     ]
    }
   ],
   "source": [
    "points = [[3,3],[5,-1],[-2,4]]\n",
    "k = 2\n",
    "sol=Solution()\n",
    "sol.kClosest(points,k)\n"
   ]
  }
 ],
 "metadata": {
  "kernelspec": {
   "display_name": "myproject_kernel",
   "language": "python",
   "name": "myproject_kernel"
  },
  "language_info": {
   "codemirror_mode": {
    "name": "ipython",
    "version": 3
   },
   "file_extension": ".py",
   "mimetype": "text/x-python",
   "name": "python",
   "nbconvert_exporter": "python",
   "pygments_lexer": "ipython3",
   "version": "3.12.6"
  }
 },
 "nbformat": 4,
 "nbformat_minor": 2
}
