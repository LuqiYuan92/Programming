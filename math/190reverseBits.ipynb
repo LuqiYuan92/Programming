{
 "cells": [
  {
   "cell_type": "code",
   "execution_count": 10,
   "metadata": {},
   "outputs": [
    {
     "name": "stdout",
     "output_type": "stream",
     "text": [
      "orginal number:43261596\n",
      "decimal:964176192,binary string:0b111001011110000010100101000000 sliced:111001011110000010100101000000 binary integer:964176192\n"
     ]
    }
   ],
   "source": [
    "class Solution:\n",
    "    def reverseBits(self, n: int) -> int:\n",
    "        res=0\n",
    "        #shift bits to the right and then use the & operator with 1 to get the last bit\n",
    "        #then shift the bit to the left and use the | operator to set the bit in the result\n",
    "        for i in range(32):\n",
    "            bit=n>>i&1\n",
    "            res=res|(bit<<(31-i))\n",
    "            \n",
    "        return res\n",
    "\n",
    "#the binary representation should be provided as a string and then converted to an integer using the int function with base 2.\n",
    "n = \"00000010100101000001111010011100\"\n",
    "n=int(n,2)\n",
    "\n",
    "print(f'orginal number:{n}')\n",
    "reversed=Solution().reverseBits(n)\n",
    "\n",
    " #the bin() function is used to convert an integer number to a binary string prefixed with \"0b\n",
    "print(f\"decimal:{reversed},binary string:{bin(reversed)} sliced:{bin(reversed)[2:]} binary integer:{int(bin(reversed),2)}\")"
   ]
  }
 ],
 "metadata": {
  "kernelspec": {
   "display_name": "myproject_kernel",
   "language": "python",
   "name": "myproject_kernel"
  },
  "language_info": {
   "codemirror_mode": {
    "name": "ipython",
    "version": 3
   },
   "file_extension": ".py",
   "mimetype": "text/x-python",
   "name": "python",
   "nbconvert_exporter": "python",
   "pygments_lexer": "ipython3",
   "version": "3.12.6"
  }
 },
 "nbformat": 4,
 "nbformat_minor": 2
}
