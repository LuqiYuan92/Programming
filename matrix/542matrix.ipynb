{
 "cells": [
  {
   "cell_type": "code",
   "execution_count": 2,
   "metadata": {},
   "outputs": [],
   "source": [
    "from typing import List\n",
    "class Solution:\n",
    "    def updateMatrix(self, mat: List[List[int]]) -> List[List[int]]:\n",
    "        row=len(mat)\n",
    "        col=len(mat[0])\n",
    "        queue=[]\n",
    "        dir=[(0,1),(0,-1),(1,0),(-1,0)]\n",
    "        \n",
    "        #add the index of all 0s to the queue and change all 1s to #s\n",
    "        for r in range(row):\n",
    "            for c in range(col):\n",
    "                if mat[r][c]==0:\n",
    "                    queue.append((r,c))\n",
    "                else:\n",
    "                    mat[r][c]='#'\n",
    "        \n",
    "        #start from every Os in the queue and move toward four directions to update the distance+1\n",
    "        # add the new index that stored the updated distance to the queue\n",
    "        for r,c in queue:\n",
    "            for dr,dc in dir:\n",
    "                nr,nc=r+dr,c+dc\n",
    "                if 0<=nr<row and 0<=nc<col and mat[nr][nc]==\"#\":\n",
    "                    mat[nr][nc]=mat[r][c]+1\n",
    "                    queue.append((nr,nc))\n",
    "        return mat\n",
    "    \n",
    "        "
   ]
  },
  {
   "cell_type": "code",
   "execution_count": 8,
   "metadata": {},
   "outputs": [
    {
     "name": "stdout",
     "output_type": "stream",
     "text": [
      "[[inf, inf, inf], [inf, inf, inf], [inf, inf, inf], [inf, inf, inf]]\n"
     ]
    }
   ],
   "source": [
    "dist = [[float('inf')] * 3 for _ in range(4)]\n",
    "print(dist)"
   ]
  },
  {
   "cell_type": "code",
   "execution_count": 11,
   "metadata": {},
   "outputs": [],
   "source": [
    "from typing import List\n",
    "from collections import deque\n",
    "class Solution:\n",
    "    def updateMatrix(self, mat: List[List[int]]) -> List[List[int]]:\n",
    "        row=len(mat)\n",
    "        col=len(mat[0])\n",
    "        distance=[[float('inf')]*col for _ in range(row)]\n",
    "        queue=deque()\n",
    "        dir=[(0,1),(0,-1),(1,0),(-1,0)]\n",
    "        \n",
    "        #add the index of all 0s to the queue and change all 1s to #s\n",
    "        for r in range(row):\n",
    "            for c in range(col):\n",
    "                if mat[r][c]==0:\n",
    "                    queue.append((r,c))\n",
    "                    distance[r][c]=0\n",
    "        \n",
    "        \n",
    "        #start from every Os in the queue and move toward four directions to update the distance+1\n",
    "        # add the new index that stored the updated distance to the queue\n",
    "        while queue:\n",
    "            r,c=queue.popleft()\n",
    "            for dr,dc in dir:\n",
    "                nr,nc=r+dr,c+dc\n",
    "                if 0<=nr<row and 0<=nc<col:\n",
    "                    if(distance[nr][nc]>distance[r][c]+1):\n",
    "                        distance[nr][nc]=distance[r][c]+1\n",
    "                        queue.append((nr,nc))\n",
    "        return distance"
   ]
  }
 ],
 "metadata": {
  "kernelspec": {
   "display_name": "myproject_kernel",
   "language": "python",
   "name": "myproject_kernel"
  },
  "language_info": {
   "codemirror_mode": {
    "name": "ipython",
    "version": 3
   },
   "file_extension": ".py",
   "mimetype": "text/x-python",
   "name": "python",
   "nbconvert_exporter": "python",
   "pygments_lexer": "ipython3",
   "version": "3.12.6"
  }
 },
 "nbformat": 4,
 "nbformat_minor": 2
}
