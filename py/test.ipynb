{
 "cells": [
  {
   "cell_type": "code",
   "execution_count": 1,
   "metadata": {},
   "outputs": [
    {
     "name": "stdout",
     "output_type": "stream",
     "text": [
      "True\n"
     ]
    }
   ],
   "source": [
    "class Solution:\n",
    "    def isPalindrome(self, x:int)->bool:\n",
    "        reverse=0\n",
    "        original=x\n",
    "        \n",
    "        if  x<0:\n",
    "            return False\n",
    "       \n",
    "        while x>0:\n",
    "            reverse=reverse*10+x%10\n",
    "            x=x//10\n",
    "        \n",
    "        return reverse==original\n",
    "    \n",
    "    \n",
    "sol=Solution();\n",
    "print(sol.isPalindrome(121))\n",
    "        \n"
   ]
  }
 ],
 "metadata": {
  "kernelspec": {
   "display_name": "myproject_kernel",
   "language": "python",
   "name": "myproject_kernel"
  },
  "language_info": {
   "codemirror_mode": {
    "name": "ipython",
    "version": 3
   },
   "file_extension": ".py",
   "mimetype": "text/x-python",
   "name": "python",
   "nbconvert_exporter": "python",
   "pygments_lexer": "ipython3",
   "version": "3.12.6"
  }
 },
 "nbformat": 4,
 "nbformat_minor": 2
}
