{
 "cells": [
  {
   "cell_type": "code",
   "execution_count": 3,
   "metadata": {},
   "outputs": [],
   "source": [
    "class Solution:\n",
    "    def isPalindrome(self, x:int)->bool:\n",
    "        reverse=0\n",
    "        original=x\n",
    "        \n",
    "        if  x<0:\n",
    "            return False\n",
    "       \n",
    "        while x>0:\n",
    "            reverse=reverse*10+x%10\n",
    "            x=x//10\n",
    "        \n",
    "        return reverse==original\n",
    "    \n",
    "    \n",
    "\n",
    "        \n"
   ]
  },
  {
   "cell_type": "code",
   "execution_count": 6,
   "metadata": {},
   "outputs": [
    {
     "name": "stdout",
     "output_type": "stream",
     "text": [
      "False\n"
     ]
    }
   ],
   "source": [
    "number=int(input(\"Enter the number to check palindrome or not: \"))\n",
    "sol=Solution()\n",
    "print(sol.isPalindrome(number))"
   ]
  },
  {
   "cell_type": "code",
   "execution_count": 8,
   "metadata": {},
   "outputs": [
    {
     "name": "stdout",
     "output_type": "stream",
     "text": [
      "True\n"
     ]
    }
   ],
   "source": [
    "verb=input(\"Do you want to continue? (yes/no): \")\n",
    "while verb==\"yes\":\n",
    "    number=int(input(\"Enter the number to check palindrome or not: \"))\n",
    "    print(sol.isPalindrome(number))\n",
    "    verb=input(\"Do you want to continue? (yes/no): \")"
   ]
  },
  {
   "cell_type": "code",
   "execution_count": 9,
   "metadata": {},
   "outputs": [
    {
     "data": {
      "text/plain": [
       "True"
      ]
     },
     "execution_count": 9,
     "metadata": {},
     "output_type": "execute_result"
    }
   ],
   "source": [
    "(2<3) and (3>1)"
   ]
  },
  {
   "cell_type": "code",
   "execution_count": 16,
   "metadata": {},
   "outputs": [
    {
     "name": "stdout",
     "output_type": "stream",
     "text": [
      "True True\n",
      "equal\n"
     ]
    }
   ],
   "source": [
    "secret=7\n",
    "num=int(input('enter the number:'))\n",
    "equal=secret==num\n",
    "print(secret==num,equal)\n",
    "\n",
    "if secret==num:\n",
    "    print('equal')\n",
    "elif secret<num:\n",
    "    print('too high')\n",
    "else:\n",
    "    print('too low')\n"
   ]
  }
 ],
 "metadata": {
  "kernelspec": {
   "display_name": "myproject_kernel",
   "language": "python",
   "name": "myproject_kernel"
  },
  "language_info": {
   "codemirror_mode": {
    "name": "ipython",
    "version": 3
   },
   "file_extension": ".py",
   "mimetype": "text/x-python",
   "name": "python",
   "nbconvert_exporter": "python",
   "pygments_lexer": "ipython3",
   "version": "3.12.6"
  }
 },
 "nbformat": 4,
 "nbformat_minor": 2
}
