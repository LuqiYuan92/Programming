{
 "cells": [
  {
   "cell_type": "code",
   "execution_count": 2,
   "metadata": {},
   "outputs": [],
   "source": [
    "#find the square root of a number\n",
    "def bisection_root(num):\n",
    "    epsilon = 0.01\n",
    "    low=0\n",
    "    high=num\n",
    "    guess=(low+high)/2\n",
    "    while abs(guess**2-num)>=epsilon:\n",
    "        if guess**2<num:\n",
    "            low=guess\n",
    "        else:\n",
    "            high=guess\n",
    "        guess=(low+high)/2\n",
    "    return guess"
   ]
  },
  {
   "cell_type": "code",
   "execution_count": 4,
   "metadata": {},
   "outputs": [
    {
     "data": {
      "text/plain": [
       "5.00030517578125"
      ]
     },
     "execution_count": 4,
     "metadata": {},
     "output_type": "execute_result"
    }
   ],
   "source": [
    "bisection_root(25)"
   ]
  },
  {
   "cell_type": "code",
   "execution_count": 19,
   "metadata": {},
   "outputs": [],
   "source": [
    "def count_num_sqrt_close_to(n,epsilon):\n",
    "    '''n is an int >2\n",
    "    epsilon is a positive number <1\n",
    "    return how many intergers have a sqaure root that is within epsilon of an integer n'''\n",
    "    count=0\n",
    "    #search number  slightly larger than n**2  \n",
    "    for i in range(n**3):\n",
    "        sqrt=bisection_root(i)\n",
    "        if abs(sqrt-n)<epsilon:\n",
    "            count+=1\n",
    "            print(i,sqrt)\n",
    "        if  sqrt-n>epsilon:\n",
    "            print('too big',i,sqrt)\n",
    "            break\n",
    "    return count"
   ]
  },
  {
   "cell_type": "code",
   "execution_count": 20,
   "metadata": {},
   "outputs": [
    {
     "name": "stdout",
     "output_type": "stream",
     "text": [
      "99 9.949699401855469\n",
      "100 9.999847412109375\n",
      "101 10.049758911132812\n",
      "102 10.099456787109375\n",
      "too big 103 10.148963928222656\n"
     ]
    },
    {
     "data": {
      "text/plain": [
       "4"
      ]
     },
     "execution_count": 20,
     "metadata": {},
     "output_type": "execute_result"
    }
   ],
   "source": [
    "count_num_sqrt_close_to(10,0.1)"
   ]
  },
  {
   "cell_type": "code",
   "execution_count": 27,
   "metadata": {},
   "outputs": [],
   "source": [
    "#use function as argument\n",
    "def is_even(n):\n",
    "    return n%2==0\n",
    "\n",
    "def count_even(fn,n):\n",
    "    '''count the number of even numbers in the range 0 to n'''\n",
    "    count=0\n",
    "    for i in range(n+1):\n",
    "        if fn(i):\n",
    "            count+=1\n",
    "            print(i)\n",
    "    return count\n",
    "        \n",
    "            \n",
    "        "
   ]
  },
  {
   "cell_type": "code",
   "execution_count": 26,
   "metadata": {},
   "outputs": [
    {
     "name": "stdout",
     "output_type": "stream",
     "text": [
      "0\n",
      "2\n",
      "4\n",
      "6\n",
      "8\n",
      "10\n"
     ]
    },
    {
     "data": {
      "text/plain": [
       "6"
      ]
     },
     "execution_count": 26,
     "metadata": {},
     "output_type": "execute_result"
    }
   ],
   "source": [
    "count_even(is_even,10)"
   ]
  },
  {
   "cell_type": "code",
   "execution_count": 3,
   "metadata": {},
   "outputs": [
    {
     "name": "stdout",
     "output_type": "stream",
     "text": [
      "[1]\n"
     ]
    }
   ],
   "source": [
    "def remove_all(L,e):\n",
    "    '''mutatesL TO remove all elements that equal to e'''\n",
    "    \n",
    "    #copy of list\n",
    "    newL=L[:]\n",
    "    L.clear()\n",
    "    for n in newL:\n",
    "        if  n!=e:\n",
    "            L.append(n)\n",
    "    \n",
    "L=[1,2,2,2]\n",
    "remove_all(L,2)\n",
    "print(L)\n",
    "    "
   ]
  },
  {
   "cell_type": "code",
   "execution_count": 7,
   "metadata": {},
   "outputs": [
    {
     "name": "stdout",
     "output_type": "stream",
     "text": [
      "[1, 2, 2]\n",
      "[1, 2]\n",
      "[1]\n",
      "[1]\n"
     ]
    }
   ],
   "source": [
    "def remove_all2(L,e):\n",
    "    '''mutatesL TO remove all elements that equal to e'''\n",
    "    while e in L:\n",
    "        L.remove(e)\n",
    "        print(L)\n",
    "        \n",
    "L2=[1,2,2,2]\n",
    "remove_all2(L2,2)\n",
    "print(L2)"
   ]
  },
  {
   "cell_type": "code",
   "execution_count": 4,
   "metadata": {},
   "outputs": [],
   "source": [
    "myList=[10,20,30,50]\n",
    "del(myList[0])\n",
    "#list.remove(element)  remove first occureence if mutiple same element \n",
    "#list.pop(index) and return the  poped element and mutate the list\n",
    "# del(list[index])"
   ]
  }
 ],
 "metadata": {
  "kernelspec": {
   "display_name": "myproject_kernel",
   "language": "python",
   "name": "myproject_kernel"
  },
  "language_info": {
   "codemirror_mode": {
    "name": "ipython",
    "version": 3
   },
   "file_extension": ".py",
   "mimetype": "text/x-python",
   "name": "python",
   "nbconvert_exporter": "python",
   "pygments_lexer": "ipython3",
   "version": "3.12.6"
  }
 },
 "nbformat": 4,
 "nbformat_minor": 2
}
