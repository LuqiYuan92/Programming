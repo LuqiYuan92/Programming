{
 "cells": [
  {
   "cell_type": "code",
   "execution_count": 39,
   "metadata": {},
   "outputs": [
    {
     "name": "stdout",
     "output_type": "stream",
     "text": [
      "[1.0, 'nan', 1.0, 1.0, 1.0]\n"
     ]
    }
   ],
   "source": [
    "def pairwise_div(Lnum,Ldenom):\n",
    "    quotient=[]\n",
    "    \n",
    "    \n",
    "    for i in range(len(Lnum)):\n",
    "        try:\n",
    "            quotient.append(Lnum[i]/Ldenom[i])\n",
    "        except ZeroDivisionError:\n",
    "            quotient.append('nan')\n",
    "    return quotient\n",
    "\n",
    "num=[1,2,3,4,5]\n",
    "denom=[1,0,3,4,5]\n",
    "\n",
    "\n",
    "print(pairwise_div(num,denom))\n",
    "    "
   ]
  },
  {
   "cell_type": "code",
   "execution_count": 40,
   "metadata": {},
   "outputs": [
    {
     "name": "stdout",
     "output_type": "stream",
     "text": [
      "[1.0, 0.6666666666666666, 0.75, 0.8]\n"
     ]
    }
   ],
   "source": [
    "def pairwise_div3(Lnum,Ldenom):\n",
    "  \n",
    "    quotient=[Lnum[i]/Ldenom[i] for i in range(len(Lnum))]\n",
    " \n",
    "    return quotient\n",
    "    \n",
    "num2=[1,2,3,4]\n",
    "denom2=[1,3,4,5]\n",
    "print(pairwise_div3(num2,denom2))"
   ]
  },
  {
   "cell_type": "code",
   "execution_count": 38,
   "metadata": {},
   "outputs": [
    {
     "ename": "ZeroDivisionError",
     "evalue": "Denominator is zero",
     "output_type": "error",
     "traceback": [
      "\u001b[0;31m---------------------------------------------------------------------------\u001b[0m",
      "\u001b[0;31mZeroDivisionError\u001b[0m                         Traceback (most recent call last)",
      "Cell \u001b[0;32mIn[38], line 6\u001b[0m, in \u001b[0;36mpairwise_div2\u001b[0;34m(Lnum, Ldenom)\u001b[0m\n\u001b[1;32m      5\u001b[0m \u001b[38;5;28;01mtry\u001b[39;00m:\n\u001b[0;32m----> 6\u001b[0m     quotient\u001b[38;5;241m.\u001b[39mappend(\u001b[43mLnum\u001b[49m\u001b[43m[\u001b[49m\u001b[43mi\u001b[49m\u001b[43m]\u001b[49m\u001b[38;5;241;43m/\u001b[39;49m\u001b[43mLdenom\u001b[49m\u001b[43m[\u001b[49m\u001b[43mi\u001b[49m\u001b[43m]\u001b[49m)\n\u001b[1;32m      7\u001b[0m \u001b[38;5;28;01mexcept\u001b[39;00m:\n",
      "\u001b[0;31mZeroDivisionError\u001b[0m: division by zero",
      "\nDuring handling of the above exception, another exception occurred:\n",
      "\u001b[0;31mZeroDivisionError\u001b[0m                         Traceback (most recent call last)",
      "Cell \u001b[0;32mIn[38], line 13\u001b[0m\n\u001b[1;32m      8\u001b[0m             \u001b[38;5;28;01mraise\u001b[39;00m \u001b[38;5;167;01mZeroDivisionError\u001b[39;00m(\u001b[38;5;124m\"\u001b[39m\u001b[38;5;124mDenominator is zero\u001b[39m\u001b[38;5;124m\"\u001b[39m)\n\u001b[1;32m     11\u001b[0m     \u001b[38;5;28;01mreturn\u001b[39;00m quotient\n\u001b[0;32m---> 13\u001b[0m \u001b[38;5;28mprint\u001b[39m(\u001b[43mpairwise_div2\u001b[49m\u001b[43m(\u001b[49m\u001b[43mnum\u001b[49m\u001b[43m,\u001b[49m\u001b[43mdenom\u001b[49m\u001b[43m)\u001b[49m)\n",
      "Cell \u001b[0;32mIn[38], line 8\u001b[0m, in \u001b[0;36mpairwise_div2\u001b[0;34m(Lnum, Ldenom)\u001b[0m\n\u001b[1;32m      6\u001b[0m         quotient\u001b[38;5;241m.\u001b[39mappend(Lnum[i]\u001b[38;5;241m/\u001b[39mLdenom[i])\n\u001b[1;32m      7\u001b[0m     \u001b[38;5;28;01mexcept\u001b[39;00m:\n\u001b[0;32m----> 8\u001b[0m         \u001b[38;5;28;01mraise\u001b[39;00m \u001b[38;5;167;01mZeroDivisionError\u001b[39;00m(\u001b[38;5;124m\"\u001b[39m\u001b[38;5;124mDenominator is zero\u001b[39m\u001b[38;5;124m\"\u001b[39m)\n\u001b[1;32m     11\u001b[0m \u001b[38;5;28;01mreturn\u001b[39;00m quotient\n",
      "\u001b[0;31mZeroDivisionError\u001b[0m: Denominator is zero"
     ]
    }
   ],
   "source": [
    "#raise your own exception\n",
    "def pairwise_div2(Lnum,Ldenom):\n",
    "    quotient=[]\n",
    "    for i in range(len(Lnum)):\n",
    "        try:\n",
    "            quotient.append(Lnum[i]/Ldenom[i])\n",
    "        except:\n",
    "            raise ZeroDivisionError(\"Denominator is zero\")\n",
    "            \n",
    "            \n",
    "    return quotient\n",
    "\n",
    "print(pairwise_div2(num,denom))"
   ]
  }
 ],
 "metadata": {
  "kernelspec": {
   "display_name": "myproject_kernel",
   "language": "python",
   "name": "myproject_kernel"
  },
  "language_info": {
   "codemirror_mode": {
    "name": "ipython",
    "version": 3
   },
   "file_extension": ".py",
   "mimetype": "text/x-python",
   "name": "python",
   "nbconvert_exporter": "python",
   "pygments_lexer": "ipython3",
   "version": "3.12.6"
  }
 },
 "nbformat": 4,
 "nbformat_minor": 2
}
