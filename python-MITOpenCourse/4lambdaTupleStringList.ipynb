{
 "cells": [
  {
   "cell_type": "code",
   "execution_count": 4,
   "metadata": {},
   "outputs": [
    {
     "name": "stdout",
     "output_type": "stream",
     "text": [
      "x=2,y=80\n"
     ]
    }
   ],
   "source": [
    "#swap using tuple \n",
    "x=2\n",
    "y=80\n",
    "(x,y)=(y,x)\n",
    "x,y=y,x\n",
    "print(f'x={x},y={y}')"
   ]
  },
  {
   "cell_type": "code",
   "execution_count": 7,
   "metadata": {},
   "outputs": [
    {
     "name": "stdout",
     "output_type": "stream",
     "text": [
      "3\n"
     ]
    }
   ],
   "source": [
    "t=(2,1,'apple')\n",
    "\n",
    "#'tuple' object does not support item assignment\n",
    "#t[2]='banana'\n",
    "\n",
    "t=3\n",
    "print(t)"
   ]
  },
  {
   "cell_type": "code",
   "execution_count": 9,
   "metadata": {},
   "outputs": [],
   "source": [
    "#return mutiple values using tuple \n",
    "def char_counts(s):\n",
    "    '''return a tuple where the first value is the number of vowels in string'''\n",
    "    vowels='aeiou'\n",
    "    (c,v)=(0,0)\n",
    "    for char in s:\n",
    "        if char in vowels:\n",
    "            v+=1\n",
    "        else:\n",
    "            c+=1\n",
    "    return (v,c)\n",
    "        "
   ]
  },
  {
   "cell_type": "code",
   "execution_count": 10,
   "metadata": {},
   "outputs": [
    {
     "name": "stdout",
     "output_type": "stream",
     "text": [
      "(2, 3)\n"
     ]
    }
   ],
   "source": [
    "print(char_counts('apple'))"
   ]
  },
  {
   "cell_type": "code",
   "execution_count": 26,
   "metadata": {},
   "outputs": [],
   "source": [
    "# take a uncertain number of argument using *args and change it to tuple\n",
    "def sum_all(*args):\n",
    "    '''return the sum of all the arguments'''\n",
    "    total=0\n",
    "    for a in args:\n",
    "        total+=a\n",
    "    return sum(args)"
   ]
  },
  {
   "cell_type": "code",
   "execution_count": 32,
   "metadata": {},
   "outputs": [
    {
     "data": {
      "text/plain": [
       "55"
      ]
     },
     "execution_count": 32,
     "metadata": {},
     "output_type": "execute_result"
    }
   ],
   "source": [
    "nums=1,2,3,4,5,6,7,8,9,10\n",
    "type(nums)\n",
    "sum_all(*nums)\n",
    "\n",
    "\n"
   ]
  },
  {
   "cell_type": "code",
   "execution_count": null,
   "metadata": {},
   "outputs": [],
   "source": []
  },
  {
   "cell_type": "code",
   "execution_count": 17,
   "metadata": {},
   "outputs": [],
   "source": [
    "#change the args into tuple by () from arguement\n",
    "def sum_all_tuple(args):\n",
    "    '''return the sum of all the arguments'''\n",
    "    total=0\n",
    "    for a in args:\n",
    "        total+=a\n",
    "    return sum(args)"
   ]
  },
  {
   "cell_type": "code",
   "execution_count": 19,
   "metadata": {},
   "outputs": [
    {
     "data": {
      "text/plain": [
       "55"
      ]
     },
     "execution_count": 19,
     "metadata": {},
     "output_type": "execute_result"
    }
   ],
   "source": [
    "nums_tuple=(1,2,3,4,5,6,7,8,9,10)\n",
    "sum_all_tuple(nums_tuple)"
   ]
  },
  {
   "cell_type": "code",
   "execution_count": 9,
   "metadata": {},
   "outputs": [
    {
     "name": "stdout",
     "output_type": "stream",
     "text": [
      "a_b_c\n",
      "1_2_3\n",
      "4_6_8\n"
     ]
    }
   ],
   "source": [
    "letter='_'.join(['a','b','c'])\n",
    "print(letter)\n",
    "number='_'.join('123')\n",
    "print(number)\n",
    "number2='_'.join(['4','6','8'])\n",
    "print(number2)\n",
    "#expected str instance,\n",
    "#number2='_'.join([1,2,3])"
   ]
  },
  {
   "cell_type": "code",
   "execution_count": 19,
   "metadata": {},
   "outputs": [
    {
     "name": "stdout",
     "output_type": "stream",
     "text": [
      "[1, 2, 3, 4, 5, 6, 7, 8, 9, 10, 100]\n",
      "[100, 10, 9, 8, 7, 6, 5, 4, 3, 2, 1]\n",
      "[1, 2, 3, 4, 5, 6, 7, 8, 9, 10, 100]\n",
      "[1, 1, 2, 3, 4, 5, 6, 7, 8, 9, 10, 100]\n",
      "[1, 2, 3, 4, 5, 6, 7, 8, 9, 10, 100, 1]\n"
     ]
    }
   ],
   "source": [
    "# sort(),reverse(),append() return None, mutate the list\n",
    "# sorted() return the mutated list, not mutate the original list\n",
    "mylist=[100,1,2,3,4,5,6,7,8,9,10]\n",
    "mylist.sort()\n",
    "print(mylist)\n",
    "mylist.sort(reverse=True)\n",
    "print(mylist)\n",
    "mylist.reverse()\n",
    "print(mylist)\n",
    "mylist.append(1)\n",
    "newList=sorted(mylist)\n",
    "print(newList)\n",
    "print(mylist)\n"
   ]
  },
  {
   "cell_type": "code",
   "execution_count": 33,
   "metadata": {},
   "outputs": [
    {
     "name": "stdout",
     "output_type": "stream",
     "text": [
      "(['apple', 'banana', 'cherry', 'grape'], ['apple', 'banana', 'cherry', 'grape'], ['apple', 'banana', 'cherry', 'grape'])\n"
     ]
    }
   ],
   "source": [
    "def sort_words(seen):\n",
    "    '''return a list of words sorted alphabetically'''\n",
    "    afterSplit=seen.split(' ')\n",
    "    afterSort=sorted(afterSplit)\n",
    "    afterSplit.sort()\n",
    "    return (afterSort,afterSplit,sorted(afterSplit))\n",
    "words='cherry grape apple banana'\n",
    "print(sort_words(words))"
   ]
  },
  {
   "cell_type": "code",
   "execution_count": 16,
   "metadata": {},
   "outputs": [
    {
     "name": "stdout",
     "output_type": "stream",
     "text": [
      "['return', 'the', 'number', 'of', 'word', 'in', 'the', 'sentence']\n"
     ]
    },
    {
     "data": {
      "text/plain": [
       "8"
      ]
     },
     "execution_count": 16,
     "metadata": {},
     "output_type": "execute_result"
    }
   ],
   "source": [
    "def count_s(sentence):\n",
    "    '''return the number of word in the sentence'''\n",
    "    after_split=sentence.split(' ')\n",
    "    print(after_split)\n",
    "    return len(after_split)\n",
    "\n",
    "s='return the number of word in the sentence'\n",
    "count_s(s)"
   ]
  },
  {
   "cell_type": "code",
   "execution_count": 36,
   "metadata": {},
   "outputs": [],
   "source": [
    "def square_list(nums):\n",
    "    '''return a list of the square of the numbers'''\n",
    "    for i in range(len(nums)):\n",
    "        nums[i]=nums[i]**2\n",
    "\n",
    "input_list=[1,2,3,4,5,6,7,8,9,10]\n",
    "square_list(input_list)\n",
    "print(input_list)"
   ]
  },
  {
   "cell_type": "code",
   "execution_count": 46,
   "metadata": {},
   "outputs": [
    {
     "name": "stdout",
     "output_type": "stream",
     "text": [
      "[1, 25]\n"
     ]
    }
   ],
   "source": [
    "def square_list3(nums):\n",
    "    '''return a list of the square of the numbers'''\n",
    "    for i, n in enumerate(nums):\n",
    "        nums[i]=n**2\n",
    "    return nums\n",
    "\n",
    "input_list3=[1,5]\n",
    "squared3=square_list3(input_list3)\n",
    "print(squared3)"
   ]
  },
  {
   "cell_type": "code",
   "execution_count": null,
   "metadata": {},
   "outputs": [],
   "source": []
  },
  {
   "cell_type": "code",
   "execution_count": 44,
   "metadata": {},
   "outputs": [
    {
     "name": "stdout",
     "output_type": "stream",
     "text": [
      "[1, 100]\n",
      "[1, 10]\n"
     ]
    }
   ],
   "source": [
    "def square_list2(nums):\n",
    "    '''return a list of the square of the numbers'''\n",
    "    return [n**2 for n in nums]\n",
    "\n",
    "input_list2=[1,10]\n",
    "squared=square_list2(input_list2)\n",
    "print(squared)\n",
    "print(input_list2)"
   ]
  },
  {
   "cell_type": "code",
   "execution_count": 4,
   "metadata": {},
   "outputs": [
    {
     "name": "stdout",
     "output_type": "stream",
     "text": [
      "[1, 2, 2]\n",
      "[1, 2]\n",
      "[1]\n",
      "final [1]\n"
     ]
    }
   ],
   "source": [
    "\n",
    "def remove_all2(L,e):\n",
    "    '''mutatesL TO remove all elements that equal to e'''\n",
    "    while e in L:\n",
    "        L.remove(e)\n",
    "        print(L)\n",
    "        \n",
    "L2=[1,2,2,2]\n",
    "remove_all2(L2,2)\n",
    "print('final',L2)"
   ]
  },
  {
   "cell_type": "code",
   "execution_count": 2,
   "metadata": {},
   "outputs": [
    {
     "name": "stdout",
     "output_type": "stream",
     "text": [
      "[1, 2, 2]\n",
      "[1, 2]\n",
      "final [1, 2]\n"
     ]
    }
   ],
   "source": [
    "# iterate over indices and elements and mutate L each loop (add or remove)\n",
    "# cause infinit loop or skip over one element  \n",
    "def remove_all3(L,e):\n",
    "    '''mutatesL TO remove all elements that equal to e'''\n",
    "    for n in L:\n",
    "        if n==e:\n",
    "            L.remove(e)\n",
    "            print(L)\n",
    "        \n",
    "L3=[1,2,2,2]\n",
    "remove_all3(L3,2)\n",
    "print('final',L3)"
   ]
  },
  {
   "cell_type": "code",
   "execution_count": 6,
   "metadata": {},
   "outputs": [
    {
     "name": "stdout",
     "output_type": "stream",
     "text": [
      "[10]\n"
     ]
    }
   ],
   "source": [
    "def remove_dup(L1,L2):\n",
    "    '''remove duplicate nums from L1 IF  L1 has the same NUM as L2   '''\n",
    "    L1_copy=L1[:]\n",
    "    \n",
    "    #iterate throught the copy of L1 and mutate L1\n",
    "    for n in L1_copy:\n",
    "        if n in L2:\n",
    "            L1.remove(n)\n",
    "L1=[10,20,30]\n",
    "L2=[20,30,40]\n",
    "    \n",
    "remove_dup(L1,L2)\n",
    "print(L1)"
   ]
  },
  {
   "cell_type": "code",
   "execution_count": 8,
   "metadata": {},
   "outputs": [
    {
     "name": "stdout",
     "output_type": "stream",
     "text": [
      "[10, 30]\n"
     ]
    }
   ],
   "source": [
    "def remove_dup4(L1,L2):\n",
    "    '''remove duplicate nums from L1 IF  L1 has the same NUM as L2   '''\n",
    "    \n",
    "    #L1_copy and L1 point to the same object, is the alias of L1\n",
    "    \n",
    "    #wrong result\n",
    "    L1_copy=L1\n",
    "    \n",
    "    #iterate throught the copy of L1 and mutate L1\n",
    "    for n in L1_copy:\n",
    "        if n in L2:\n",
    "            L1.remove(n)\n",
    "L4=[10,20,30]\n",
    "L5=[20,30,40]\n",
    "    \n",
    "remove_dup4(L4,L5)\n",
    "print(L4)"
   ]
  },
  {
   "cell_type": "code",
   "execution_count": 14,
   "metadata": {},
   "outputs": [
    {
     "name": "stdout",
     "output_type": "stream",
     "text": [
      "oldlist:[[100, 2, 3], [4, 5, 6], [7, 8, 9], [4, 4, 4]]\n",
      "newlist:[[100, 2, 3], [4, 5, 6], [7, 8, 9]]\n"
     ]
    }
   ],
   "source": [
    "import copy\n",
    "#copy.copy() create a shallow copy of the list\n",
    "#only copy the reference from the outer list that point to the same inner list, not the element of the list\n",
    "old_list=[[1,2,3],[4,5,6],[7,8,9]]\n",
    "new_list=copy.copy(old_list)\n",
    "old_list[0][0]=100\n",
    "old_list.append([4,4,4])\n",
    "#append change the old list, but not the new list\n",
    "print(f\"oldlist:{old_list}\")\n",
    "print(f\"newlist:{new_list}\")"
   ]
  },
  {
   "cell_type": "code",
   "execution_count": 19,
   "metadata": {},
   "outputs": [
    {
     "name": "stdout",
     "output_type": "stream",
     "text": [
      "oldlist:[[100, 2, 3], [4, 5, 6], [7, 8, 9], [4, 4, 4]]\n",
      "newlist:[[100, 2, 3], [4, 5, 6], [7, 8, 9]]\n"
     ]
    }
   ],
   "source": [
    "import copy\n",
    "\n",
    "\n",
    "old_list=[[1,2,3],[4,5,6],[7,8,9]]\n",
    "\n",
    "#[:]the same as shallow copy\n",
    "# copy the first layer of the list, but not the inner list\n",
    "new_list=old_list[:]\n",
    "old_list[0][0]=100\n",
    "old_list.append([4,4,4])\n",
    "print(f\"oldlist:{old_list}\")\n",
    "print(f\"newlist:{new_list}\")"
   ]
  },
  {
   "cell_type": "code",
   "execution_count": 31,
   "metadata": {},
   "outputs": [
    {
     "name": "stdout",
     "output_type": "stream",
     "text": [
      "<filter object at 0x10c4e95d0>\n",
      "list of vowels:['o', 'i', 'a', 'e', 'o', 'e']\n",
      "string of vowels:\n"
     ]
    }
   ],
   "source": [
    "sentence='python is awesome'\n",
    "vowels=filter(lambda x: x in 'aeiou',sentence)\n",
    "\n",
    "v=list(vowels)\n",
    "s=''.join(vowels)\n",
    "print(vowels)\n",
    "print(f\"list of vowels:{v}\")\n",
    "print(f\"string of vowels:{s}\")\n",
    "      \n"
   ]
  },
  {
   "cell_type": "code",
   "execution_count": 16,
   "metadata": {},
   "outputs": [
    {
     "name": "stdout",
     "output_type": "stream",
     "text": [
      "oldlist:[[100, 2, 3], [4, 5, 6], [7, 8, 9], [4, 4, 4]]\n",
      "newlist:[[1, 2, 3], [4, 5, 6], [7, 8, 9]]\n"
     ]
    }
   ],
   "source": [
    "import copy\n",
    "#deepcopy() create a new object, not alias\n",
    "old_list=[[1,2,3],[4,5,6],[7,8,9]]\n",
    "new_list=copy.deepcopy(old_list)\n",
    "old_list[0][0]=100\n",
    "old_list.append([4,4,4])\n",
    "print(f\"oldlist:{old_list}\")\n",
    "print(f\"newlist:{new_list}\")\n"
   ]
  }
 ],
 "metadata": {
  "kernelspec": {
   "display_name": "myproject_kernel",
   "language": "python",
   "name": "myproject_kernel"
  },
  "language_info": {
   "codemirror_mode": {
    "name": "ipython",
    "version": 3
   },
   "file_extension": ".py",
   "mimetype": "text/x-python",
   "name": "python",
   "nbconvert_exporter": "python",
   "pygments_lexer": "ipython3",
   "version": "3.12.6"
  }
 },
 "nbformat": 4,
 "nbformat_minor": 2
}
