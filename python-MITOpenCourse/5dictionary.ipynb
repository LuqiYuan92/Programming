{
 "cells": [
  {
   "cell_type": "markdown",
   "metadata": {},
   "source": [
    "1) create a frequency dictionary mapping str:int\n",
    "2) find words that occurs most often and how many times\n",
    "use a list, in case more than one word with the same number\n",
    "return a tuple(list,int) for (words_list,highest_fre)\n",
    "3) find the words that occur at least X times\n",
    "return a list of tuples, ech tuple is a (list,int) \n",
    "from song dictionary, find most frequenty word, delete most frequent word, repeat"
   ]
  },
  {
   "cell_type": "code",
   "execution_count": 20,
   "metadata": {},
   "outputs": [
    {
     "name": "stdout",
     "output_type": "stream",
     "text": [
      "{'ha': 4, 'hadouken': 2, 'ma': 1}\n"
     ]
    }
   ],
   "source": [
    "song ='HA HADOUKEN HA HADOUKEN HA MA HA'\n",
    "#create a frequency dictionary mapping str:int\n",
    "def generat_word_count(song):\n",
    "    \n",
    "    song_words=song.lower()  #convert the song to lower case\n",
    "    word_list=song_words.split()   #split the song into words by space\n",
    "    word_dict={} #create an empty dictionary to store the word count\n",
    "    \n",
    "    for word in word_list:\n",
    "        if word in word_dict:\n",
    "            word_dict[word]+=1\n",
    "        else:\n",
    "            word_dict[word]=1\n",
    "    return word_dict\n",
    "\n",
    "word_dict=generat_word_count(song)\n",
    "print(word_dict)"
   ]
  },
  {
   "cell_type": "code",
   "execution_count": 25,
   "metadata": {},
   "outputs": [
    {
     "name": "stdout",
     "output_type": "stream",
     "text": [
      "dict_values([4, 2, 1]) 4\n",
      "(['ha'], 4)\n"
     ]
    }
   ],
   "source": [
    "#find words that occurs most often and how many times use a list, in case more than one word with the same number\n",
    "#return a tuple(list,int) for (words_list,highest_fre)\n",
    "def find_freq_words(word_dict):\n",
    "    highest=max(word_dict.values())\n",
    "    print(word_dict.values(),highest)\n",
    "    words=[]\n",
    "    for k,v in word_dict.items():\n",
    "        if(v==highest):\n",
    "            words.append(k)\n",
    "    return (words,highest)\n",
    "\n",
    "word_fre_tuple=find_freq_words(word_dict)\n",
    "print(word_fre_tuple)"
   ]
  },
  {
   "cell_type": "code",
   "execution_count": 28,
   "metadata": {},
   "outputs": [
    {
     "name": "stdout",
     "output_type": "stream",
     "text": [
      "dict_values([4, 2, 1]) 4\n",
      "dict_values([2, 1]) 2\n",
      "dict_values([1]) 1\n",
      "word in song repeated more than 1 time: [(['ha'], 4), (['hadouken'], 2)]\n"
     ]
    }
   ],
   "source": [
    "#find the words that occur more than X times\n",
    "#return a list of tuples, ech tuple is a (list,int) \n",
    "def occurs_most_often(song,x):\n",
    "    fre_list=[]\n",
    "    word_dict=generat_word_count(song)\n",
    "    word_fre_tuple=find_freq_words(word_dict)\n",
    "    \n",
    "    while(word_fre_tuple[1]>x):\n",
    "        fre_list.append(word_fre_tuple)\n",
    "        for word in word_fre_tuple[0]:\n",
    "            del word_dict[word]\n",
    "        word_fre_tuple=find_freq_words(word_dict)\n",
    "        ##word_dict has mutated every time we find the most frequent word and delete it\n",
    "        #so we need to find the most frequent word again\n",
    "    return fre_list\n",
    "\n",
    "print(f'word in song repeated more than 1 time: {occurs_most_often(song,1)}') \n",
    "        "
   ]
  },
  {
   "cell_type": "code",
   "execution_count": 5,
   "metadata": {},
   "outputs": [],
   "source": [
    "def find_in_L(Ld,k):\n",
    "    '''L is a list of dictionaries. k is a int.[1:100,2:200,3:300]\n",
    "    return True if k is in any of the dictionaries in L, otherwise return False'''\n",
    "    for d in Ld:\n",
    "        if k in d:\n",
    "            return True\n",
    "    return False"
   ]
  },
  {
   "cell_type": "code",
   "execution_count": 14,
   "metadata": {},
   "outputs": [
    {
     "data": {
      "text/plain": [
       "False"
      ]
     },
     "execution_count": 14,
     "metadata": {},
     "output_type": "execute_result"
    }
   ],
   "source": [
    "Ld=[{1:100},{2:200},{3:300}]\n",
    "find_in_L(Ld,2)\n",
    "find_in_L(Ld,4)\n"
   ]
  },
  {
   "cell_type": "code",
   "execution_count": 15,
   "metadata": {},
   "outputs": [
    {
     "name": "stdout",
     "output_type": "stream",
     "text": [
      "dict_keys([1, 2, 3]) dict_values([100, 200, 300])\n"
     ]
    }
   ],
   "source": [
    "dic={1:100,2:200,3:300}\n",
    "print(dic.keys(),dic.values())"
   ]
  },
  {
   "cell_type": "code",
   "execution_count": 17,
   "metadata": {},
   "outputs": [
    {
     "name": "stdout",
     "output_type": "stream",
     "text": [
      "[(1, 100), (2, 200), (3, 300)]\n"
     ]
    }
   ],
   "source": [
    "print(list(dic.items()))"
   ]
  },
  {
   "cell_type": "code",
   "execution_count": 18,
   "metadata": {},
   "outputs": [
    {
     "name": "stdout",
     "output_type": "stream",
     "text": [
      "dict_items([(1, 100), (2, 200), (3, 300)])\n"
     ]
    }
   ],
   "source": [
    "print(dic.items())"
   ]
  },
  {
   "cell_type": "code",
   "execution_count": 19,
   "metadata": {},
   "outputs": [
    {
     "name": "stdout",
     "output_type": "stream",
     "text": [
      "key=1,value=100\n",
      "key=2,value=200\n",
      "key=3,value=300\n"
     ]
    }
   ],
   "source": [
    "for k,v in dic.items():\n",
    "    print(f'key={k},value={v}')"
   ]
  }
 ],
 "metadata": {
  "kernelspec": {
   "display_name": "base--user",
   "language": "python",
   "name": "base--user"
  },
  "language_info": {
   "codemirror_mode": {
    "name": "ipython",
    "version": 3
   },
   "file_extension": ".py",
   "mimetype": "text/x-python",
   "name": "python",
   "nbconvert_exporter": "python",
   "pygments_lexer": "ipython3",
   "version": "3.12.6"
  }
 },
 "nbformat": 4,
 "nbformat_minor": 2
}
