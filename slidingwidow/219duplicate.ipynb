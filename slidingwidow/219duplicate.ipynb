{
 "cells": [
  {
   "cell_type": "code",
   "execution_count": 1,
   "metadata": {},
   "outputs": [],
   "source": [
    "from   typing import List\n",
    "class Solution:\n",
    "    def containsNearbyDuplicate(self, nums: List[int], k: int) -> bool:\n",
    "        hashmap={}\n",
    "        \n",
    "        for i in range (len(nums)):\n",
    "            if nums[i] in hashmap and (i-hashmap[nums[i]])<=k:\n",
    "                return True\n",
    "            hashmap[nums[i]]=i\n",
    "        return False\n",
    "        "
   ]
  },
  {
   "cell_type": "code",
   "execution_count": 2,
   "metadata": {},
   "outputs": [],
   "source": [
    "from   typing import List\n",
    "class Solution:\n",
    "    def containsNearbyDuplicate(self, nums: List[int], k: int) -> bool:\n",
    "        hashmap={}\n",
    "        \n",
    "        for i in range (len(nums)):\n",
    "            if nums[i] in hashmap and (i-hashmap.get(nums[i]))<=k:\n",
    "                return True\n",
    "            hashmap[nums[i]]=i\n",
    "        return False\n",
    "        "
   ]
  },
  {
   "cell_type": "code",
   "execution_count": 6,
   "metadata": {},
   "outputs": [],
   "source": [
    "from   typing import List\n",
    "class Solution:\n",
    "    def containsNearbyDuplicate(self, nums: List[int], k: int) -> bool:\n",
    "        \n",
    "        #sliding window with set()\n",
    "        #only keep k elements in the set\n",
    "        hashSet=set()\n",
    "        left=0\n",
    "        for right in range(len(nums)):\n",
    "            if right-left>k:\n",
    "                hashSet.remove(nums[left])\n",
    "                left+=1\n",
    "            if nums[right] in hashSet:\n",
    "                return True\n",
    "            hashSet.add(nums[right])\n",
    "            print(hashSet)\n",
    "        return False\n",
    "            \n",
    "        "
   ]
  },
  {
   "cell_type": "code",
   "execution_count": 8,
   "metadata": {},
   "outputs": [],
   "source": [
    "from   typing import List\n",
    "class Solution:\n",
    "    def containsNearbyDuplicate(self, nums: List[int], k: int) -> bool:\n",
    "        \n",
    "        #sliding window with hashmap\n",
    "        \n",
    "        hashmap={}\n",
    "        left=0\n",
    "        for right in range(len(nums)):\n",
    "            if right-left>k:\n",
    "                hashmap.pop(nums[left])\n",
    "                left+=1\n",
    "            if nums[right] in hashmap:\n",
    "                return True\n",
    "            hashmap[nums[right]]=right\n",
    "        \n",
    "        return False\n",
    "            "
   ]
  },
  {
   "cell_type": "code",
   "execution_count": 7,
   "metadata": {},
   "outputs": [
    {
     "name": "stdout",
     "output_type": "stream",
     "text": [
      "{1}\n",
      "{1, 2}\n",
      "{1, 2, 3}\n",
      "{1, 2, 3}\n",
      "{1, 2, 3}\n",
      "{1, 2, 3}\n"
     ]
    },
    {
     "data": {
      "text/plain": [
       "False"
      ]
     },
     "execution_count": 7,
     "metadata": {},
     "output_type": "execute_result"
    }
   ],
   "source": [
    "nums = [1,2,3,1,2,3]\n",
    "k = 2\n",
    "\n",
    "Solution().containsNearbyDuplicate(nums, k) "
   ]
  }
 ],
 "metadata": {
  "kernelspec": {
   "display_name": "myproject_kernel",
   "language": "python",
   "name": "myproject_kernel"
  },
  "language_info": {
   "codemirror_mode": {
    "name": "ipython",
    "version": 3
   },
   "file_extension": ".py",
   "mimetype": "text/x-python",
   "name": "python",
   "nbconvert_exporter": "python",
   "pygments_lexer": "ipython3",
   "version": "3.12.6"
  }
 },
 "nbformat": 4,
 "nbformat_minor": 2
}
