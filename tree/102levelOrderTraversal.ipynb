{
 "cells": [
  {
   "cell_type": "code",
   "execution_count": 10,
   "metadata": {},
   "outputs": [],
   "source": [
    "# Definition for a binary tree node.\n",
    "class TreeNode:\n",
    "    def __init__(self, val=0, left=None, right=None):\n",
    "        self.val = val\n",
    "        self.left = left\n",
    "        self.right = right\n",
    "    def create_tree_from_list(lst):\n",
    "        if not lst:\n",
    "            return None\n",
    "        root=TreeNode(lst[0])\n",
    "        #nodes is a list of nodes or queue in the current level\n",
    "        queue=[root]\n",
    "        idx=1\n",
    "        \n",
    "        while idx<len(lst):\n",
    "            #pop the first node in the list\n",
    "            node=queue.pop(0)\n",
    "            if node:\n",
    "                #append the left  child of the current node\n",
    "                if idx<len(lst) and lst[idx] is not None:\n",
    "                    node.left=TreeNode(lst[idx])\n",
    "                    queue.append(node.left)\n",
    "                idx+=1\n",
    "                #append the  right child of the current node\n",
    "                if idx<len(lst) and lst[idx] is not None:\n",
    "                    node.right=TreeNode(lst[idx])\n",
    "                    queue.append(node.right)\n",
    "                idx+=1\n",
    "        return root\n",
    "\n",
    "        "
   ]
  },
  {
   "cell_type": "code",
   "execution_count": 9,
   "metadata": {},
   "outputs": [],
   "source": [
    "from typing import List, Optional\n",
    "from collections import deque\n",
    "class Solution:\n",
    "    def levelOrder(self, root: Optional[TreeNode]) -> List[List[int]]:\n",
    "        queue=deque()\n",
    "        result=[]\n",
    "        queue.append(root)\n",
    "        while(queue):\n",
    "            #the length of the queue is the number of nodes in the current level\n",
    "            #the length of queue changes as we pop elements from the queue and add their children\n",
    "            #empty the level list and add the elements of the current level to it\n",
    "            level_length=len(queue)\n",
    "            level=[]\n",
    "            for i in range(level_length):\n",
    "                node=queue.popleft()\n",
    "                if node:\n",
    "                    level.append(node.val)\n",
    "                    queue.append(node.left)\n",
    "                    queue.append(node.right)\n",
    "            if level:\n",
    "                result.append(level)\n",
    "                \n",
    "        return result"
   ]
  },
  {
   "cell_type": "code",
   "execution_count": 17,
   "metadata": {},
   "outputs": [
    {
     "name": "stdout",
     "output_type": "stream",
     "text": [
      "[[3], [9, 20], [None, None, 15, 7], [None, None, None, None]]\n"
     ]
    }
   ],
   "source": [
    "from collections import deque\n",
    "\n",
    "def print_level_order(root):\n",
    "    if not root:\n",
    "        return []\n",
    "    result = []\n",
    "    queue = deque([root])\n",
    "    while queue:\n",
    "        level_size = len(queue)\n",
    "        level = []\n",
    "        for _ in range(level_size):\n",
    "            node = queue.popleft()\n",
    "            if node:\n",
    "                level.append(node.val)\n",
    "                queue.append(node.left)\n",
    "                queue.append(node.right)\n",
    "            else:\n",
    "                level.append(None)\n",
    "        result.append(level)\n",
    "    return result\n"
   ]
  },
  {
   "cell_type": "code",
   "execution_count": 16,
   "metadata": {},
   "outputs": [
    {
     "name": "stdout",
     "output_type": "stream",
     "text": [
      "<__main__.TreeNode object at 0x10a0dc5c0>\n",
      "[[3], [9, 20], [15, 7]]\n"
     ]
    }
   ],
   "source": [
    "root_list = [3,9,20,None,None,15,7]\n",
    "root=TreeNode.create_tree_from_list(root_list)\n",
    "print(print_level_order(root))  # Output s\n",
    "#result=[[3],[9,20],[15,7]]\n",
    "print(Solution().levelOrder(root))"
   ]
  }
 ],
 "metadata": {
  "kernelspec": {
   "display_name": "myproject_kernel",
   "language": "python",
   "name": "myproject_kernel"
  },
  "language_info": {
   "codemirror_mode": {
    "name": "ipython",
    "version": 3
   },
   "file_extension": ".py",
   "mimetype": "text/x-python",
   "name": "python",
   "nbconvert_exporter": "python",
   "pygments_lexer": "ipython3",
   "version": "3.12.6"
  }
 },
 "nbformat": 4,
 "nbformat_minor": 2
}
