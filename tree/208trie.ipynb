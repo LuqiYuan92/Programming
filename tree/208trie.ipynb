{
 "cells": [
  {
   "cell_type": "code",
   "execution_count": 1,
   "metadata": {},
   "outputs": [],
   "source": [
    "class TrieNode:\n",
    "    def __init__(self):\n",
    "        self.children={}\n",
    "        self.isEnd=False\n",
    "\n",
    "class Trie:\n",
    "    def __init__(self):\n",
    "        self.root=TrieNode() \n",
    "\n",
    "    def insert(self, word: str) -> None:\n",
    "        #children is a dictionary ,\n",
    "        #key is the character, value is the  children TrieNode\n",
    "        #root letter: TrieNode(chilren,isEnd)\n",
    "        cur=self.root\n",
    "        for w in word:\n",
    "            if w not in cur.children:\n",
    "                cur.children[w]=TrieNode()\n",
    "            cur=cur.children[w]\n",
    "        cur.isEnd=True\n",
    "        \n",
    "\n",
    "    def search(self, word: str) -> bool:\n",
    "        cur=self.root\n",
    "        for w in word:\n",
    "            if w not in cur.children:\n",
    "                return False\n",
    "            cur=cur.children[w]\n",
    "        return cur.isEnd\n",
    "        \n",
    "\n",
    "    def startsWith(self, prefix: str) -> bool:\n",
    "        cur=self.root\n",
    "        for w in prefix:\n",
    "            if w not in cur.children:\n",
    "                return False\n",
    "            cur=cur.children[w]\n",
    "        return True\n",
    "                \n",
    "        \n",
    "\n",
    "\n",
    "# Your Trie object will be instantiated and called as such:\n",
    "# obj = Trie()\n",
    "# obj.insert(word)\n",
    "# param_2 = obj.search(word)\n",
    "# param_3 = obj.startsWith(prefix)"
   ]
  },
  {
   "cell_type": "code",
   "execution_count": 7,
   "metadata": {},
   "outputs": [
    {
     "name": "stdout",
     "output_type": "stream",
     "text": [
      "True\n",
      "False\n",
      "True\n",
      "True\n"
     ]
    }
   ],
   "source": [
    "trie = Trie();\n",
    "trie.insert(\"apple\");\n",
    "print(trie.search(\"apple\"));   \n",
    "print(trie.search(\"app\"));     \n",
    "print(trie.startsWith(\"app\")); # return True\n",
    "trie.insert(\"app\");\n",
    "print(trie.search(\"app\")); "
   ]
  }
 ],
 "metadata": {
  "kernelspec": {
   "display_name": "myproject_kernel",
   "language": "python",
   "name": "myproject_kernel"
  },
  "language_info": {
   "codemirror_mode": {
    "name": "ipython",
    "version": 3
   },
   "file_extension": ".py",
   "mimetype": "text/x-python",
   "name": "python",
   "nbconvert_exporter": "python",
   "pygments_lexer": "ipython3",
   "version": "3.12.6"
  }
 },
 "nbformat": 4,
 "nbformat_minor": 2
}
