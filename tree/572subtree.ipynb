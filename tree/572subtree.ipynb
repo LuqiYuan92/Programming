{
 "cells": [
  {
   "cell_type": "code",
   "execution_count": 6,
   "metadata": {},
   "outputs": [],
   "source": [
    "# Definition for a binary tree node.\n",
    "class TreeNode:\n",
    "    def __init__(self, val=0, left=None, right=None):\n",
    "        self.val = val\n",
    "        self.left = left\n",
    "        self.right = right\n",
    "\n",
    "from typing import Optional\n",
    "\n",
    "class Solution:\n",
    "    def isSubtree(self, root: Optional[TreeNode], subRoot: Optional[TreeNode]) -> bool:\n",
    "        \n",
    "        #check any of trees are empty\n",
    "        #create a helper function to check if the two trees are same\n",
    "        if subRoot is None:\n",
    "            return True\n",
    "        if not root and subRoot:\n",
    "            return False\n",
    "        if(self.isSameTree(root,subRoot)):\n",
    "            return True\n",
    "        else:\n",
    "            return self.isSubtree(root.left,subRoot) or self.isSubtree(root.right,subRoot)\n",
    "                   \n",
    "    \n",
    "    def isSameTree(self,root,subRoot):\n",
    "            if not root and not subRoot:\n",
    "                return True\n",
    "            if not root or not subRoot:\n",
    "                return False\n",
    "            if root.val!=subRoot.val:\n",
    "                return False\n",
    "            elif root.val==subRoot.val: \n",
    "                return self.isSameTree(root.left,subRoot.left) and self.isSameTree(root.right,subRoot.right)\n",
    "            \n",
    "##### mistake:\n",
    "# if root.val!=subRoot.val:return self.isSubtree(root.left,subRoot) or self.isSubtree(root.right,subRoot)"
   ]
  }
 ],
 "metadata": {
  "kernelspec": {
   "display_name": "myproject_kernel",
   "language": "python",
   "name": "myproject_kernel"
  },
  "language_info": {
   "codemirror_mode": {
    "name": "ipython",
    "version": 3
   },
   "file_extension": ".py",
   "mimetype": "text/x-python",
   "name": "python",
   "nbconvert_exporter": "python",
   "pygments_lexer": "ipython3",
   "version": "3.12.6"
  }
 },
 "nbformat": 4,
 "nbformat_minor": 2
}
