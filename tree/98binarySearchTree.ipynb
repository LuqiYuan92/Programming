{
 "cells": [
  {
   "cell_type": "code",
   "execution_count": 11,
   "metadata": {},
   "outputs": [],
   "source": [
    "# Definition for a binary tree node.\n",
    "from typing import Optional\n",
    "class TreeNode:\n",
    "    def __init__(self, val=0, left=None, right=None):\n",
    "        self.val = val\n",
    "        self.left = left\n",
    "        self.right = right\n",
    "class Solution:\n",
    "    def isValidBST(self, root: Optional[TreeNode]) -> bool:\n",
    "        # pass the lower and upper bound to the dfs function\n",
    "        # initially the lower bound is negative infinity and upper bound is positive infinity\n",
    "        def dfs(node,lower,upper):\n",
    "            if not node:\n",
    "                return True\n",
    "            if not (lower<node.val and node.val<upper):\n",
    "                return False\n",
    "            return (dfs(node.left,lower,node.val) and dfs(node.right,node.val,upper))\n",
    "            \n",
    "        return dfs(root,float('-inf'),float('inf'))\n",
    "\n",
    "        "
   ]
  },
  {
   "cell_type": "code",
   "execution_count": 18,
   "metadata": {},
   "outputs": [],
   "source": [
    "from typing import List\n",
    "import collections\n",
    "def build_tree(values:List[Optional[int]])->Optional[TreeNode]:\n",
    "    \n",
    "    #build the tree from the list of values using queue\n",
    "    if not values:\n",
    "        return None\n",
    "    \n",
    "    root=TreeNode(values[0])\n",
    "    queue=collections.deque([root])\n",
    "    \n",
    "    for element in queue:\n",
    "        print('value',element.val)\n",
    "        \n",
    "    i=1\n",
    "    while i<len(values) and queue:\n",
    "        #current=queue.pop(0)\n",
    "        current=queue.popleft()\n",
    "        if values[i] is not None:\n",
    "            current.left=TreeNode(values[i])\n",
    "            queue.append(current.left)\n",
    "        i+=1\n",
    "        if values[i] is not None and i<len(values):\n",
    "            current.right=TreeNode(values[i])\n",
    "            queue.append(current.right)\n",
    "        i+=1\n",
    "    return root"
   ]
  },
  {
   "cell_type": "code",
   "execution_count": 19,
   "metadata": {},
   "outputs": [
    {
     "name": "stdout",
     "output_type": "stream",
     "text": [
      "value 5\n"
     ]
    },
    {
     "data": {
      "text/plain": [
       "False"
      ]
     },
     "execution_count": 19,
     "metadata": {},
     "output_type": "execute_result"
    }
   ],
   "source": [
    "values = [5, 1, 4, None, None, 3, 6]\n",
    "root0=build_tree(values)\n",
    "sol = Solution()\n",
    "sol.isValidBST(root0)"
   ]
  },
  {
   "cell_type": "code",
   "execution_count": 12,
   "metadata": {},
   "outputs": [
    {
     "data": {
      "text/plain": [
       "True"
      ]
     },
     "execution_count": 12,
     "metadata": {},
     "output_type": "execute_result"
    }
   ],
   "source": [
    "root = TreeNode(2)\n",
    "root.left = TreeNode(1)\n",
    "root.right = TreeNode(3)\n",
    "\n",
    "sol = Solution()\n",
    "sol.isValidBST(root)"
   ]
  }
 ],
 "metadata": {
  "kernelspec": {
   "display_name": "myproject_kernel",
   "language": "python",
   "name": "myproject_kernel"
  },
  "language_info": {
   "codemirror_mode": {
    "name": "ipython",
    "version": 3
   },
   "file_extension": ".py",
   "mimetype": "text/x-python",
   "name": "python",
   "nbconvert_exporter": "python",
   "pygments_lexer": "ipython3",
   "version": "3.12.6"
  }
 },
 "nbformat": 4,
 "nbformat_minor": 2
}
